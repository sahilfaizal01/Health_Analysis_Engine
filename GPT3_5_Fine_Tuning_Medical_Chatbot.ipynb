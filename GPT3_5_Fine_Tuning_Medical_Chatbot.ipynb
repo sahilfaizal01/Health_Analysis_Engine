{
  "nbformat": 4,
  "nbformat_minor": 0,
  "metadata": {
    "colab": {
      "provenance": [],
      "authorship_tag": "ABX9TyP8Nb5nlv92FT/7+MKucmLF",
      "include_colab_link": true
    },
    "kernelspec": {
      "name": "python3",
      "display_name": "Python 3"
    },
    "language_info": {
      "name": "python"
    }
  },
  "cells": [
    {
      "cell_type": "markdown",
      "metadata": {
        "id": "view-in-github",
        "colab_type": "text"
      },
      "source": [
        "<a href=\"https://colab.research.google.com/github/sahilfaizal01/Health_Analysis_Engine/blob/main/GPT3_5_Fine_Tuning_Medical_Chatbot.ipynb\" target=\"_parent\"><img src=\"https://colab.research.google.com/assets/colab-badge.svg\" alt=\"Open In Colab\"/></a>"
      ]
    },
    {
      "cell_type": "markdown",
      "source": [
        "# **Installing necessary libraries**"
      ],
      "metadata": {
        "id": "JkyHTFi_6HqP"
      }
    },
    {
      "cell_type": "code",
      "execution_count": 1,
      "metadata": {
        "colab": {
          "base_uri": "https://localhost:8080/"
        },
        "id": "bD5JObkP50tC",
        "outputId": "9068f660-2c3f-4663-8d87-dc4524dded0e"
      },
      "outputs": [
        {
          "output_type": "stream",
          "name": "stdout",
          "text": [
            "Collecting datasets\n",
            "  Downloading datasets-2.21.0-py3-none-any.whl.metadata (21 kB)\n",
            "Collecting tiktoken\n",
            "  Downloading tiktoken-0.7.0-cp310-cp310-manylinux_2_17_x86_64.manylinux2014_x86_64.whl.metadata (6.6 kB)\n",
            "Collecting openai\n",
            "  Downloading openai-1.42.0-py3-none-any.whl.metadata (22 kB)\n",
            "Requirement already satisfied: filelock in /usr/local/lib/python3.10/dist-packages (from datasets) (3.15.4)\n",
            "Requirement already satisfied: numpy>=1.17 in /usr/local/lib/python3.10/dist-packages (from datasets) (1.26.4)\n",
            "Collecting pyarrow>=15.0.0 (from datasets)\n",
            "  Downloading pyarrow-17.0.0-cp310-cp310-manylinux_2_28_x86_64.whl.metadata (3.3 kB)\n",
            "Collecting dill<0.3.9,>=0.3.0 (from datasets)\n",
            "  Downloading dill-0.3.8-py3-none-any.whl.metadata (10 kB)\n",
            "Requirement already satisfied: pandas in /usr/local/lib/python3.10/dist-packages (from datasets) (2.1.4)\n",
            "Requirement already satisfied: requests>=2.32.2 in /usr/local/lib/python3.10/dist-packages (from datasets) (2.32.3)\n",
            "Requirement already satisfied: tqdm>=4.66.3 in /usr/local/lib/python3.10/dist-packages (from datasets) (4.66.5)\n",
            "Collecting xxhash (from datasets)\n",
            "  Downloading xxhash-3.5.0-cp310-cp310-manylinux_2_17_x86_64.manylinux2014_x86_64.whl.metadata (12 kB)\n",
            "Collecting multiprocess (from datasets)\n",
            "  Downloading multiprocess-0.70.16-py310-none-any.whl.metadata (7.2 kB)\n",
            "Requirement already satisfied: fsspec<=2024.6.1,>=2023.1.0 in /usr/local/lib/python3.10/dist-packages (from fsspec[http]<=2024.6.1,>=2023.1.0->datasets) (2024.6.1)\n",
            "Requirement already satisfied: aiohttp in /usr/local/lib/python3.10/dist-packages (from datasets) (3.10.3)\n",
            "Requirement already satisfied: huggingface-hub>=0.21.2 in /usr/local/lib/python3.10/dist-packages (from datasets) (0.23.5)\n",
            "Requirement already satisfied: packaging in /usr/local/lib/python3.10/dist-packages (from datasets) (24.1)\n",
            "Requirement already satisfied: pyyaml>=5.1 in /usr/local/lib/python3.10/dist-packages (from datasets) (6.0.2)\n",
            "Requirement already satisfied: regex>=2022.1.18 in /usr/local/lib/python3.10/dist-packages (from tiktoken) (2024.5.15)\n",
            "Requirement already satisfied: anyio<5,>=3.5.0 in /usr/local/lib/python3.10/dist-packages (from openai) (3.7.1)\n",
            "Requirement already satisfied: distro<2,>=1.7.0 in /usr/lib/python3/dist-packages (from openai) (1.7.0)\n",
            "Collecting httpx<1,>=0.23.0 (from openai)\n",
            "  Downloading httpx-0.27.0-py3-none-any.whl.metadata (7.2 kB)\n",
            "Collecting jiter<1,>=0.4.0 (from openai)\n",
            "  Downloading jiter-0.5.0-cp310-cp310-manylinux_2_17_x86_64.manylinux2014_x86_64.whl.metadata (3.6 kB)\n",
            "Requirement already satisfied: pydantic<3,>=1.9.0 in /usr/local/lib/python3.10/dist-packages (from openai) (2.8.2)\n",
            "Requirement already satisfied: sniffio in /usr/local/lib/python3.10/dist-packages (from openai) (1.3.1)\n",
            "Requirement already satisfied: typing-extensions<5,>=4.11 in /usr/local/lib/python3.10/dist-packages (from openai) (4.12.2)\n",
            "Requirement already satisfied: idna>=2.8 in /usr/local/lib/python3.10/dist-packages (from anyio<5,>=3.5.0->openai) (3.7)\n",
            "Requirement already satisfied: exceptiongroup in /usr/local/lib/python3.10/dist-packages (from anyio<5,>=3.5.0->openai) (1.2.2)\n",
            "Requirement already satisfied: aiohappyeyeballs>=2.3.0 in /usr/local/lib/python3.10/dist-packages (from aiohttp->datasets) (2.3.5)\n",
            "Requirement already satisfied: aiosignal>=1.1.2 in /usr/local/lib/python3.10/dist-packages (from aiohttp->datasets) (1.3.1)\n",
            "Requirement already satisfied: attrs>=17.3.0 in /usr/local/lib/python3.10/dist-packages (from aiohttp->datasets) (24.2.0)\n",
            "Requirement already satisfied: frozenlist>=1.1.1 in /usr/local/lib/python3.10/dist-packages (from aiohttp->datasets) (1.4.1)\n",
            "Requirement already satisfied: multidict<7.0,>=4.5 in /usr/local/lib/python3.10/dist-packages (from aiohttp->datasets) (6.0.5)\n",
            "Requirement already satisfied: yarl<2.0,>=1.0 in /usr/local/lib/python3.10/dist-packages (from aiohttp->datasets) (1.9.4)\n",
            "Requirement already satisfied: async-timeout<5.0,>=4.0 in /usr/local/lib/python3.10/dist-packages (from aiohttp->datasets) (4.0.3)\n",
            "Requirement already satisfied: certifi in /usr/local/lib/python3.10/dist-packages (from httpx<1,>=0.23.0->openai) (2024.7.4)\n",
            "Collecting httpcore==1.* (from httpx<1,>=0.23.0->openai)\n",
            "  Downloading httpcore-1.0.5-py3-none-any.whl.metadata (20 kB)\n",
            "Collecting h11<0.15,>=0.13 (from httpcore==1.*->httpx<1,>=0.23.0->openai)\n",
            "  Downloading h11-0.14.0-py3-none-any.whl.metadata (8.2 kB)\n",
            "Requirement already satisfied: annotated-types>=0.4.0 in /usr/local/lib/python3.10/dist-packages (from pydantic<3,>=1.9.0->openai) (0.7.0)\n",
            "Requirement already satisfied: pydantic-core==2.20.1 in /usr/local/lib/python3.10/dist-packages (from pydantic<3,>=1.9.0->openai) (2.20.1)\n",
            "Requirement already satisfied: charset-normalizer<4,>=2 in /usr/local/lib/python3.10/dist-packages (from requests>=2.32.2->datasets) (3.3.2)\n",
            "Requirement already satisfied: urllib3<3,>=1.21.1 in /usr/local/lib/python3.10/dist-packages (from requests>=2.32.2->datasets) (2.0.7)\n",
            "Requirement already satisfied: python-dateutil>=2.8.2 in /usr/local/lib/python3.10/dist-packages (from pandas->datasets) (2.8.2)\n",
            "Requirement already satisfied: pytz>=2020.1 in /usr/local/lib/python3.10/dist-packages (from pandas->datasets) (2024.1)\n",
            "Requirement already satisfied: tzdata>=2022.1 in /usr/local/lib/python3.10/dist-packages (from pandas->datasets) (2024.1)\n",
            "Requirement already satisfied: six>=1.5 in /usr/local/lib/python3.10/dist-packages (from python-dateutil>=2.8.2->pandas->datasets) (1.16.0)\n",
            "Downloading datasets-2.21.0-py3-none-any.whl (527 kB)\n",
            "\u001b[2K   \u001b[90m━━━━━━━━━━━━━━━━━━━━━━━━━━━━━━━━━━━━━━━━\u001b[0m \u001b[32m527.3/527.3 kB\u001b[0m \u001b[31m8.0 MB/s\u001b[0m eta \u001b[36m0:00:00\u001b[0m\n",
            "\u001b[?25hDownloading tiktoken-0.7.0-cp310-cp310-manylinux_2_17_x86_64.manylinux2014_x86_64.whl (1.1 MB)\n",
            "\u001b[2K   \u001b[90m━━━━━━━━━━━━━━━━━━━━━━━━━━━━━━━━━━━━━━━━\u001b[0m \u001b[32m1.1/1.1 MB\u001b[0m \u001b[31m22.3 MB/s\u001b[0m eta \u001b[36m0:00:00\u001b[0m\n",
            "\u001b[?25hDownloading openai-1.42.0-py3-none-any.whl (362 kB)\n",
            "\u001b[2K   \u001b[90m━━━━━━━━━━━━━━━━━━━━━━━━━━━━━━━━━━━━━━━━\u001b[0m \u001b[32m362.9/362.9 kB\u001b[0m \u001b[31m16.6 MB/s\u001b[0m eta \u001b[36m0:00:00\u001b[0m\n",
            "\u001b[?25hDownloading dill-0.3.8-py3-none-any.whl (116 kB)\n",
            "\u001b[2K   \u001b[90m━━━━━━━━━━━━━━━━━━━━━━━━━━━━━━━━━━━━━━━━\u001b[0m \u001b[32m116.3/116.3 kB\u001b[0m \u001b[31m7.8 MB/s\u001b[0m eta \u001b[36m0:00:00\u001b[0m\n",
            "\u001b[?25hDownloading httpx-0.27.0-py3-none-any.whl (75 kB)\n",
            "\u001b[2K   \u001b[90m━━━━━━━━━━━━━━━━━━━━━━━━━━━━━━━━━━━━━━━━\u001b[0m \u001b[32m75.6/75.6 kB\u001b[0m \u001b[31m4.4 MB/s\u001b[0m eta \u001b[36m0:00:00\u001b[0m\n",
            "\u001b[?25hDownloading httpcore-1.0.5-py3-none-any.whl (77 kB)\n",
            "\u001b[2K   \u001b[90m━━━━━━━━━━━━━━━━━━━━━━━━━━━━━━━━━━━━━━━━\u001b[0m \u001b[32m77.9/77.9 kB\u001b[0m \u001b[31m4.5 MB/s\u001b[0m eta \u001b[36m0:00:00\u001b[0m\n",
            "\u001b[?25hDownloading jiter-0.5.0-cp310-cp310-manylinux_2_17_x86_64.manylinux2014_x86_64.whl (318 kB)\n",
            "\u001b[2K   \u001b[90m━━━━━━━━━━━━━━━━━━━━━━━━━━━━━━━━━━━━━━━━\u001b[0m \u001b[32m318.9/318.9 kB\u001b[0m \u001b[31m14.2 MB/s\u001b[0m eta \u001b[36m0:00:00\u001b[0m\n",
            "\u001b[?25hDownloading pyarrow-17.0.0-cp310-cp310-manylinux_2_28_x86_64.whl (39.9 MB)\n",
            "\u001b[2K   \u001b[90m━━━━━━━━━━━━━━━━━━━━━━━━━━━━━━━━━━━━━━━━\u001b[0m \u001b[32m39.9/39.9 MB\u001b[0m \u001b[31m15.4 MB/s\u001b[0m eta \u001b[36m0:00:00\u001b[0m\n",
            "\u001b[?25hDownloading multiprocess-0.70.16-py310-none-any.whl (134 kB)\n",
            "\u001b[2K   \u001b[90m━━━━━━━━━━━━━━━━━━━━━━━━━━━━━━━━━━━━━━━━\u001b[0m \u001b[32m134.8/134.8 kB\u001b[0m \u001b[31m5.9 MB/s\u001b[0m eta \u001b[36m0:00:00\u001b[0m\n",
            "\u001b[?25hDownloading xxhash-3.5.0-cp310-cp310-manylinux_2_17_x86_64.manylinux2014_x86_64.whl (194 kB)\n",
            "\u001b[2K   \u001b[90m━━━━━━━━━━━━━━━━━━━━━━━━━━━━━━━━━━━━━━━━\u001b[0m \u001b[32m194.1/194.1 kB\u001b[0m \u001b[31m10.3 MB/s\u001b[0m eta \u001b[36m0:00:00\u001b[0m\n",
            "\u001b[?25hDownloading h11-0.14.0-py3-none-any.whl (58 kB)\n",
            "\u001b[2K   \u001b[90m━━━━━━━━━━━━━━━━━━━━━━━━━━━━━━━━━━━━━━━━\u001b[0m \u001b[32m58.3/58.3 kB\u001b[0m \u001b[31m3.2 MB/s\u001b[0m eta \u001b[36m0:00:00\u001b[0m\n",
            "\u001b[?25hInstalling collected packages: xxhash, pyarrow, jiter, h11, dill, tiktoken, multiprocess, httpcore, httpx, openai, datasets\n",
            "  Attempting uninstall: pyarrow\n",
            "    Found existing installation: pyarrow 14.0.2\n",
            "    Uninstalling pyarrow-14.0.2:\n",
            "      Successfully uninstalled pyarrow-14.0.2\n",
            "\u001b[31mERROR: pip's dependency resolver does not currently take into account all the packages that are installed. This behaviour is the source of the following dependency conflicts.\n",
            "cudf-cu12 24.4.1 requires pyarrow<15.0.0a0,>=14.0.1, but you have pyarrow 17.0.0 which is incompatible.\n",
            "ibis-framework 8.0.0 requires pyarrow<16,>=2, but you have pyarrow 17.0.0 which is incompatible.\u001b[0m\u001b[31m\n",
            "\u001b[0mSuccessfully installed datasets-2.21.0 dill-0.3.8 h11-0.14.0 httpcore-1.0.5 httpx-0.27.0 jiter-0.5.0 multiprocess-0.70.16 openai-1.42.0 pyarrow-17.0.0 tiktoken-0.7.0 xxhash-3.5.0\n"
          ]
        }
      ],
      "source": [
        "!pip install datasets tiktoken openai"
      ]
    },
    {
      "cell_type": "markdown",
      "source": [
        "# **Importing libraries**"
      ],
      "metadata": {
        "id": "-BS_Pse_6OtX"
      }
    },
    {
      "cell_type": "code",
      "source": [
        "import os\n",
        "import openai\n",
        "from openai import OpenAI\n",
        "\n",
        "\n",
        "openai.api_key = ''"
      ],
      "metadata": {
        "id": "4iTNGitE51IZ"
      },
      "execution_count": 56,
      "outputs": []
    },
    {
      "cell_type": "code",
      "source": [
        "import pandas as pd\n",
        "import os\n",
        "import tiktoken\n",
        "import numpy as np\n",
        "from collections import defaultdict"
      ],
      "metadata": {
        "id": "gz6CftXh7Q0A"
      },
      "execution_count": 3,
      "outputs": []
    },
    {
      "cell_type": "code",
      "source": [
        "import json\n",
        "from pathlib import Path"
      ],
      "metadata": {
        "id": "PKVDztbzI-h-"
      },
      "execution_count": 59,
      "outputs": []
    },
    {
      "cell_type": "markdown",
      "source": [
        "# **Importing the data**"
      ],
      "metadata": {
        "id": "G0_fr-dU6fe2"
      }
    },
    {
      "cell_type": "code",
      "source": [
        "!git clone https://huggingface.co/datasets/gamino/wiki_medical_terms"
      ],
      "metadata": {
        "colab": {
          "base_uri": "https://localhost:8080/"
        },
        "id": "LUs3xD1n51Ki",
        "outputId": "6c1f7d5c-4852-4dc2-8ac1-9a3d1a564472"
      },
      "execution_count": 4,
      "outputs": [
        {
          "output_type": "stream",
          "name": "stdout",
          "text": [
            "Cloning into 'wiki_medical_terms'...\n",
            "remote: Enumerating objects: 16, done.\u001b[K\n",
            "remote: Total 16 (delta 0), reused 0 (delta 0), pack-reused 16 (from 1)\u001b[K\n",
            "Unpacking objects: 100% (16/16), 2.70 KiB | 276.00 KiB/s, done.\n"
          ]
        }
      ]
    },
    {
      "cell_type": "markdown",
      "source": [
        "# Data Insights:-\n",
        "## User - Patient (Input)\n",
        "## Assistant - Doctor (Output)"
      ],
      "metadata": {
        "id": "tz5d5J5l6tBQ"
      }
    },
    {
      "cell_type": "markdown",
      "source": [
        "# **Preparing the data**"
      ],
      "metadata": {
        "id": "PpLsMCxQ7LM-"
      }
    },
    {
      "cell_type": "code",
      "source": [
        "data_path = \"/content/wiki_medical_terms/wiki_medical_terms.parquet\""
      ],
      "metadata": {
        "id": "TL7Jm6YU51PW"
      },
      "execution_count": 23,
      "outputs": []
    },
    {
      "cell_type": "code",
      "source": [
        "df = pd.read_parquet(data_path, engine=\"pyarrow\")\n",
        "df.columns = ['User','Assistant']\n",
        "df.head()"
      ],
      "metadata": {
        "colab": {
          "base_uri": "https://localhost:8080/",
          "height": 206
        },
        "id": "ZmQdZcfv51Rk",
        "outputId": "972ac43d-7b34-4bbf-a30e-fc04d7fec77a"
      },
      "execution_count": 24,
      "outputs": [
        {
          "output_type": "execute_result",
          "data": {
            "text/plain": [
              "                             User  \\\n",
              "0           Paracetamol poisoning   \n",
              "1                      Acromegaly   \n",
              "2               Actinic keratosis   \n",
              "3  Congenital adrenal hyperplasia   \n",
              "4        Adrenocortical carcinoma   \n",
              "\n",
              "                                           Assistant  \n",
              "0  Paracetamol poisoning, also known as acetamino...  \n",
              "1  Acromegaly is a disorder that results from exc...  \n",
              "2  Actinic keratosis (AK), sometimes called solar...  \n",
              "3  Congenital adrenal hyperplasia (CAH) is a grou...  \n",
              "4  Adrenocortical carcinoma  (ACC) is an aggressi...  "
            ],
            "text/html": [
              "\n",
              "  <div id=\"df-80f3d7ab-ba34-4df8-aa9f-bc8541492178\" class=\"colab-df-container\">\n",
              "    <div>\n",
              "<style scoped>\n",
              "    .dataframe tbody tr th:only-of-type {\n",
              "        vertical-align: middle;\n",
              "    }\n",
              "\n",
              "    .dataframe tbody tr th {\n",
              "        vertical-align: top;\n",
              "    }\n",
              "\n",
              "    .dataframe thead th {\n",
              "        text-align: right;\n",
              "    }\n",
              "</style>\n",
              "<table border=\"1\" class=\"dataframe\">\n",
              "  <thead>\n",
              "    <tr style=\"text-align: right;\">\n",
              "      <th></th>\n",
              "      <th>User</th>\n",
              "      <th>Assistant</th>\n",
              "    </tr>\n",
              "  </thead>\n",
              "  <tbody>\n",
              "    <tr>\n",
              "      <th>0</th>\n",
              "      <td>Paracetamol poisoning</td>\n",
              "      <td>Paracetamol poisoning, also known as acetamino...</td>\n",
              "    </tr>\n",
              "    <tr>\n",
              "      <th>1</th>\n",
              "      <td>Acromegaly</td>\n",
              "      <td>Acromegaly is a disorder that results from exc...</td>\n",
              "    </tr>\n",
              "    <tr>\n",
              "      <th>2</th>\n",
              "      <td>Actinic keratosis</td>\n",
              "      <td>Actinic keratosis (AK), sometimes called solar...</td>\n",
              "    </tr>\n",
              "    <tr>\n",
              "      <th>3</th>\n",
              "      <td>Congenital adrenal hyperplasia</td>\n",
              "      <td>Congenital adrenal hyperplasia (CAH) is a grou...</td>\n",
              "    </tr>\n",
              "    <tr>\n",
              "      <th>4</th>\n",
              "      <td>Adrenocortical carcinoma</td>\n",
              "      <td>Adrenocortical carcinoma  (ACC) is an aggressi...</td>\n",
              "    </tr>\n",
              "  </tbody>\n",
              "</table>\n",
              "</div>\n",
              "    <div class=\"colab-df-buttons\">\n",
              "\n",
              "  <div class=\"colab-df-container\">\n",
              "    <button class=\"colab-df-convert\" onclick=\"convertToInteractive('df-80f3d7ab-ba34-4df8-aa9f-bc8541492178')\"\n",
              "            title=\"Convert this dataframe to an interactive table.\"\n",
              "            style=\"display:none;\">\n",
              "\n",
              "  <svg xmlns=\"http://www.w3.org/2000/svg\" height=\"24px\" viewBox=\"0 -960 960 960\">\n",
              "    <path d=\"M120-120v-720h720v720H120Zm60-500h600v-160H180v160Zm220 220h160v-160H400v160Zm0 220h160v-160H400v160ZM180-400h160v-160H180v160Zm440 0h160v-160H620v160ZM180-180h160v-160H180v160Zm440 0h160v-160H620v160Z\"/>\n",
              "  </svg>\n",
              "    </button>\n",
              "\n",
              "  <style>\n",
              "    .colab-df-container {\n",
              "      display:flex;\n",
              "      gap: 12px;\n",
              "    }\n",
              "\n",
              "    .colab-df-convert {\n",
              "      background-color: #E8F0FE;\n",
              "      border: none;\n",
              "      border-radius: 50%;\n",
              "      cursor: pointer;\n",
              "      display: none;\n",
              "      fill: #1967D2;\n",
              "      height: 32px;\n",
              "      padding: 0 0 0 0;\n",
              "      width: 32px;\n",
              "    }\n",
              "\n",
              "    .colab-df-convert:hover {\n",
              "      background-color: #E2EBFA;\n",
              "      box-shadow: 0px 1px 2px rgba(60, 64, 67, 0.3), 0px 1px 3px 1px rgba(60, 64, 67, 0.15);\n",
              "      fill: #174EA6;\n",
              "    }\n",
              "\n",
              "    .colab-df-buttons div {\n",
              "      margin-bottom: 4px;\n",
              "    }\n",
              "\n",
              "    [theme=dark] .colab-df-convert {\n",
              "      background-color: #3B4455;\n",
              "      fill: #D2E3FC;\n",
              "    }\n",
              "\n",
              "    [theme=dark] .colab-df-convert:hover {\n",
              "      background-color: #434B5C;\n",
              "      box-shadow: 0px 1px 3px 1px rgba(0, 0, 0, 0.15);\n",
              "      filter: drop-shadow(0px 1px 2px rgba(0, 0, 0, 0.3));\n",
              "      fill: #FFFFFF;\n",
              "    }\n",
              "  </style>\n",
              "\n",
              "    <script>\n",
              "      const buttonEl =\n",
              "        document.querySelector('#df-80f3d7ab-ba34-4df8-aa9f-bc8541492178 button.colab-df-convert');\n",
              "      buttonEl.style.display =\n",
              "        google.colab.kernel.accessAllowed ? 'block' : 'none';\n",
              "\n",
              "      async function convertToInteractive(key) {\n",
              "        const element = document.querySelector('#df-80f3d7ab-ba34-4df8-aa9f-bc8541492178');\n",
              "        const dataTable =\n",
              "          await google.colab.kernel.invokeFunction('convertToInteractive',\n",
              "                                                    [key], {});\n",
              "        if (!dataTable) return;\n",
              "\n",
              "        const docLinkHtml = 'Like what you see? Visit the ' +\n",
              "          '<a target=\"_blank\" href=https://colab.research.google.com/notebooks/data_table.ipynb>data table notebook</a>'\n",
              "          + ' to learn more about interactive tables.';\n",
              "        element.innerHTML = '';\n",
              "        dataTable['output_type'] = 'display_data';\n",
              "        await google.colab.output.renderOutput(dataTable, element);\n",
              "        const docLink = document.createElement('div');\n",
              "        docLink.innerHTML = docLinkHtml;\n",
              "        element.appendChild(docLink);\n",
              "      }\n",
              "    </script>\n",
              "  </div>\n",
              "\n",
              "\n",
              "<div id=\"df-f72bcfe6-b546-4257-88a4-582fe88a341b\">\n",
              "  <button class=\"colab-df-quickchart\" onclick=\"quickchart('df-f72bcfe6-b546-4257-88a4-582fe88a341b')\"\n",
              "            title=\"Suggest charts\"\n",
              "            style=\"display:none;\">\n",
              "\n",
              "<svg xmlns=\"http://www.w3.org/2000/svg\" height=\"24px\"viewBox=\"0 0 24 24\"\n",
              "     width=\"24px\">\n",
              "    <g>\n",
              "        <path d=\"M19 3H5c-1.1 0-2 .9-2 2v14c0 1.1.9 2 2 2h14c1.1 0 2-.9 2-2V5c0-1.1-.9-2-2-2zM9 17H7v-7h2v7zm4 0h-2V7h2v10zm4 0h-2v-4h2v4z\"/>\n",
              "    </g>\n",
              "</svg>\n",
              "  </button>\n",
              "\n",
              "<style>\n",
              "  .colab-df-quickchart {\n",
              "      --bg-color: #E8F0FE;\n",
              "      --fill-color: #1967D2;\n",
              "      --hover-bg-color: #E2EBFA;\n",
              "      --hover-fill-color: #174EA6;\n",
              "      --disabled-fill-color: #AAA;\n",
              "      --disabled-bg-color: #DDD;\n",
              "  }\n",
              "\n",
              "  [theme=dark] .colab-df-quickchart {\n",
              "      --bg-color: #3B4455;\n",
              "      --fill-color: #D2E3FC;\n",
              "      --hover-bg-color: #434B5C;\n",
              "      --hover-fill-color: #FFFFFF;\n",
              "      --disabled-bg-color: #3B4455;\n",
              "      --disabled-fill-color: #666;\n",
              "  }\n",
              "\n",
              "  .colab-df-quickchart {\n",
              "    background-color: var(--bg-color);\n",
              "    border: none;\n",
              "    border-radius: 50%;\n",
              "    cursor: pointer;\n",
              "    display: none;\n",
              "    fill: var(--fill-color);\n",
              "    height: 32px;\n",
              "    padding: 0;\n",
              "    width: 32px;\n",
              "  }\n",
              "\n",
              "  .colab-df-quickchart:hover {\n",
              "    background-color: var(--hover-bg-color);\n",
              "    box-shadow: 0 1px 2px rgba(60, 64, 67, 0.3), 0 1px 3px 1px rgba(60, 64, 67, 0.15);\n",
              "    fill: var(--button-hover-fill-color);\n",
              "  }\n",
              "\n",
              "  .colab-df-quickchart-complete:disabled,\n",
              "  .colab-df-quickchart-complete:disabled:hover {\n",
              "    background-color: var(--disabled-bg-color);\n",
              "    fill: var(--disabled-fill-color);\n",
              "    box-shadow: none;\n",
              "  }\n",
              "\n",
              "  .colab-df-spinner {\n",
              "    border: 2px solid var(--fill-color);\n",
              "    border-color: transparent;\n",
              "    border-bottom-color: var(--fill-color);\n",
              "    animation:\n",
              "      spin 1s steps(1) infinite;\n",
              "  }\n",
              "\n",
              "  @keyframes spin {\n",
              "    0% {\n",
              "      border-color: transparent;\n",
              "      border-bottom-color: var(--fill-color);\n",
              "      border-left-color: var(--fill-color);\n",
              "    }\n",
              "    20% {\n",
              "      border-color: transparent;\n",
              "      border-left-color: var(--fill-color);\n",
              "      border-top-color: var(--fill-color);\n",
              "    }\n",
              "    30% {\n",
              "      border-color: transparent;\n",
              "      border-left-color: var(--fill-color);\n",
              "      border-top-color: var(--fill-color);\n",
              "      border-right-color: var(--fill-color);\n",
              "    }\n",
              "    40% {\n",
              "      border-color: transparent;\n",
              "      border-right-color: var(--fill-color);\n",
              "      border-top-color: var(--fill-color);\n",
              "    }\n",
              "    60% {\n",
              "      border-color: transparent;\n",
              "      border-right-color: var(--fill-color);\n",
              "    }\n",
              "    80% {\n",
              "      border-color: transparent;\n",
              "      border-right-color: var(--fill-color);\n",
              "      border-bottom-color: var(--fill-color);\n",
              "    }\n",
              "    90% {\n",
              "      border-color: transparent;\n",
              "      border-bottom-color: var(--fill-color);\n",
              "    }\n",
              "  }\n",
              "</style>\n",
              "\n",
              "  <script>\n",
              "    async function quickchart(key) {\n",
              "      const quickchartButtonEl =\n",
              "        document.querySelector('#' + key + ' button');\n",
              "      quickchartButtonEl.disabled = true;  // To prevent multiple clicks.\n",
              "      quickchartButtonEl.classList.add('colab-df-spinner');\n",
              "      try {\n",
              "        const charts = await google.colab.kernel.invokeFunction(\n",
              "            'suggestCharts', [key], {});\n",
              "      } catch (error) {\n",
              "        console.error('Error during call to suggestCharts:', error);\n",
              "      }\n",
              "      quickchartButtonEl.classList.remove('colab-df-spinner');\n",
              "      quickchartButtonEl.classList.add('colab-df-quickchart-complete');\n",
              "    }\n",
              "    (() => {\n",
              "      let quickchartButtonEl =\n",
              "        document.querySelector('#df-f72bcfe6-b546-4257-88a4-582fe88a341b button');\n",
              "      quickchartButtonEl.style.display =\n",
              "        google.colab.kernel.accessAllowed ? 'block' : 'none';\n",
              "    })();\n",
              "  </script>\n",
              "</div>\n",
              "\n",
              "    </div>\n",
              "  </div>\n"
            ],
            "application/vnd.google.colaboratory.intrinsic+json": {
              "type": "dataframe",
              "variable_name": "df",
              "summary": "{\n  \"name\": \"df\",\n  \"rows\": 6861,\n  \"fields\": [\n    {\n      \"column\": \"User\",\n      \"properties\": {\n        \"dtype\": \"string\",\n        \"num_unique_values\": 6762,\n        \"samples\": [\n          \"Subacute bacterial endocarditis\",\n          \"Purtschers retinopathy\",\n          \"Interferon beta-1b\"\n        ],\n        \"semantic_type\": \"\",\n        \"description\": \"\"\n      }\n    },\n    {\n      \"column\": \"Assistant\",\n      \"properties\": {\n        \"dtype\": \"string\",\n        \"num_unique_values\": 6762,\n        \"samples\": [\n          \"Subacute bacterial endocarditis, abbreviated SBE, is a type of endocarditis (more specifically, infective endocarditis). Subacute bacterial endocarditis can be considered a form of type III hypersensitivity.\\n\\nSigns and symptoms\\nAmong the signs of subacute bacterial endocarditis are:\\nMalaise\\nWeakness\\nExcessive sweat\\nFever\\n\\nCauses\\nIt is usually caused by a form of Viridans group streptococcus bacteria that normally live in the mouth (Streptococcus mutans, mitis, sanguis or milleri).Other strains of streptococci can cause subacute endocarditis as well. These include streptococcus intermedius, which can cause\\nacute or subacute infection (about 15% of cases pertaining to infective endocarditis).Enterococci from urinary tract infections and coagulase negative staphylococci can also be causative agents.\\n\\nMechanism\\nThe mechanism of subacute bacterial endocarditis could be due to malformed stenotic valves which in the company of bacteremia, become infected, via adhesion and subsequent colonization of the surface area. This causes an inflammatory response, with recruitment of matrix metalloproteinases, and destruction of collagen.Underlying structural valve disease is usually present in patients before developing subacute endocarditis, and is less likely to lead to septic emboli than is acute endocarditis, but subacute endocarditis has a relatively slow process of infection and, if left untreated, can worsen for up to one year before it is fatal. In cases of subacute bacterial endocarditis, the causative organism (streptococcus viridans) needs a previous heart valve disease to colonize. On the other hand, in cases of acute bacterial endocarditis, the organism can colonize on the healthy heart valve, causing the disease.\\n\\nDiagnosis\\nDiagnosis of subacute bacterial endocarditis can be done by collecting three blood culture specimens over a 24-hour period for analysis, also it can usually be indicated by the existence of:\\n\\nOslers nodes\\nRoths spots\\nNail clubbing\\n\\nTreatment\\nThe standard treatment is with a minimum of four weeks of high-dose intravenous penicillin with an aminoglycoside such as gentamicin.\\nThe use of high-dose antibiotics is largely based upon animal models.Leo Loewe of Brooklyn Jewish Hospital was the first to successfully treat subacute bacterial endocarditis with penicillin. Loewe reported at the time seven cases of subacute bacterial endocarditis in 1944.\\n\\nSee also\\nEndocarditis\\n\\nReferences\\nFurther references\\nGoolsby, Mary Jo; Grubbs, Laurie (2011-04-28). Advanced Assessment: Interpreting Findings and Formulating Differential Diagnoses. F.A. Davis. ISBN 9780803625174.\\nSilverman, Sol; Eversole, Lewis R.; Truelove, Edmond L. (2002-01-01). Essentials of Oral Medicine. PMPH-USA. ISBN 9781550091465.\\nKiefer, TL; Bashore, TM (2012). \\\"Infective endocarditis: a comprehensive overview\\\". Reviews in Cardiovascular Medicine. 13 (2\\u20133): e105\\u201320. PMID 23160159.\\n\\n\\n== External links ==\",\n          \"Purtschers retinopathy is a disease where part of the eye (retina) is damaged.  Usually associated with severe head injuries, it may also occur with other types of trauma, such as long bone fractures, or with several non-traumatic systemic diseases.  However, the exact cause of the disease is not well understood.  There are no treatments specific for Purtschers retinopathy, and the prognosis varies.  The disease can threaten vision, sometimes causing temporary or permanent blindness.\\nIt is named for the Austrian ophthalmologist, Othmar Purtscher (1852\\u20131927), who detected it in 1910 and described it fully in 1912.\\n\\nPresentation\\nAssociated diseases\\nSevere head, chest, or long bone trauma\\nAcute pancreatitis\\nAmniotic fluid embolism\\nChronic kidney failure\\nDermatomyositis\\nFat embolism syndrome\\nScleroderma\\nSystemic lupus erythematosus (SLE)\\nThrombotic thrombocytopenic purpura (TTP)\\n\\nPathophysiology\\nPurtschers retinopathy likely involves complex pathophysiology, with several contributing factors, including complement-mediated aggregates, fat, air, fibrin clots and platelet clumps.  The diseases leads to the formation of cotton wool spots in the retina, a finding observed in several other diseases, and atrophy of the optic nerve.\\n\\nDiagnosis\\nWhere trauma is involved, only a funduscopic examination of the back of the eye (retina) is necessary to make the diagnosis.  Fluoroscein angiography may show a decrease in blood flow to the areas of whiteness in the retina.\\n\\nTreatment\\nIt may be treated with triamcinolone in some cases.  However, in general, there are no treatments for Purtschers retinopathy.  If it is caused by a systemic disease or emboli, then those conditions should be treated.\\n\\nPrognosis\\nPurtschers retinopathy can lead to loss of vision, and recovery of vision may occur very little.  However, vision recovery does occur in some cases, and reports have varied on the long-term prognosis.\\n\\nHistory\\nPurtschers retinopathy was first characterized in 1910 and 1912 as a syndrome of sudden blindness after head trauma, with patches of hemorrhage and whitening of the retina in both eyes.  Later, it was discovered to occur after other types of trauma, such as chest trauma, and is associated with several non-traumatic systemic diseases.  Purtschers retinopathy may also be associated with acute pancreatitis, vasculitis, embolization of such materials as fat and amniotic fluid, systemic lupus erythematosus, thrombotic thrombocytopenic purpura, and chronic kidney failure.  Purtschers retinopathy may be caused by extensive fractures of the long bones.\\n\\nReferences\\n\\n\\n== External links ==\",\n          \"Interferon beta-1b is a cytokine in the interferon family used to treat the relapsing-remitting and secondary-progressive forms of multiple sclerosis (MS). It is approved for use after the first MS event. Closely related is interferon beta 1a, also indicated for MS, with a very similar drug profile.\\n\\nMechanism of action\\nInterferon beta balances the expression of pro- and anti-inflammatory agents in the brain, and reduces the number of inflammatory cells that cross the blood brain barrier. Overall, therapy with interferon beta leads to a reduction of neuron inflammation. Moreover, it is also thought to increase the production of nerve growth factor and consequently improve neuronal survival.\\n\\nSide effects\\nInterferon beta-1b is available only in injectable forms, and can cause skin reactions at the injection site that may include cutaneous necrosis. Skin reactions vary greatly in their clinical presentation. They usually appear within the first month of treatment albeit their frequence and importance diminish after six months of treatment. Skin reactions are more prevalent in women. Mild skin reactions usually do not impede treatment whereas necroses appear in around 5% of patients and lead to the discontinuation of the therapy. Also over time, a visible dent at the injection site due to the local destruction of fat tissue, known as lipoatrophy, may develop.\\nInterferons, a subclass of cytokines, are produced in the body during illnesses such as influenza in order to help fight the infection. They are responsible for many of the symptoms of influenza infections, including fever, muscle aches, fatigue, and headaches. Many patients report influenza-like symptoms hours after taking interferon beta that usually improve within 24 hours, being such symptoms related to the temporary increase of cytokines. This reaction tends to disappear after 3 months of treatment and its symptoms can be treated with over-the-counter nonsteroidal anti-inflammatory drugs, such as ibuprofen, that reduce fever and pain. Another common transient secondary effect with interferon-beta is a functional deterioration of already existing symptoms of the disease. Such deterioration is similar to the one produced in MS patients due to heat, fever or stress (Uhthoffs phenomenon), usually appears within 24 hours of treatment, is more common in the initial months of treatment, and may last several days. A symptom specially sensitive to worsening is spasticity. Interferon-beta can also reduce numbers of white blood cells (leukopenia), lymphocytes (lymphopenia) and neutrophils (neutropenia), as well as affect liver function. In most cases these effects are non-dangerous and reversible after cessation or reduction of treatment. Nevertheless, recommendation is that all patients should be monitored through laboratory blood analyses, including liver function tests, to ensure safe use of interferons.The injection-site reactions can be mitigated by rotating injection sites or by using one of the medications that requires less frequent injections.  Side effects are often onerous enough that many patients ultimately discontinue taking Interferons (or glatiramer acetate, a comparable disease-modifying therapies requiring regular injections).\\n\\nEfficacy\\nClinically isolated syndrome\\nThe earliest clinical presentation of relapsing-remitting multiple sclerosis is the clinically isolated syndrome (CIS), that is, a single attack of a single symptom. During a CIS, there is a subacute attack suggestive of demyelination but the patient does not fulfill the criteria for diagnosis of multiple sclerosis. Treatment with interferons after an initial attack decreases the risk of developing clinical definite MS.\\n\\nRelapsing-remitting MS\\nMedications are modestly effective at decreasing the number of attacks in relapsing-remitting multiple sclerosis and in reducing the accumulation of brain lesions, which is measured using gadolinium-enhanced magnetic resonance imaging (MRI). Interferons reduce relapses by approximately 30% and their safe profile make them the first-line treatments. Nevertheless, not all the patients are responsive to these therapies. It is known that 30% of MS patients are non-responsive to Beta interferon. They can be classified in genetic, pharmacological and pathogenetic non-responders. One of the factors related to non-respondance is the presence of high levels of interferon beta neutralizing  antibodies. Interferon therapy, and specially interferon beta-1b, induces the production of  neutralizing  antibodies, usually in the second 6 months of treatment, in 5 to 30% of treated patients. Moreover, a subset of RRMS patients with specially active MS, sometimes called \\\"rapidly worsening MS\\\" are normally non-responders to interferon beta-1b.While more studies of the long-term effects of the drugs are needed,  some data on the effects of interferons indicate that early-initiated long-term therapy is safe and it is related to better outcomes.  More recent data suggest that interferon betas does not hasten disability.Interferon-\\u03b2 exacerbates Th17-mediated inflammatory disease.\\n\\nCommercial formulations\\nBetaferon/Betaseron is marketed today by Bayer Pharma. The originator was Schering AG (Berlex in North America), now part of Bayer Pharma. Novartis has also introduced Extavia, a new brand of interferon beta-1b, in 2009.\\n\\nReferences\\nExternal links\\n\\\"Interferon beta-1b\\\". Drug Information Portal. U.S. National Library of Medicine.\"\n        ],\n        \"semantic_type\": \"\",\n        \"description\": \"\"\n      }\n    }\n  ]\n}"
            }
          },
          "metadata": {},
          "execution_count": 24
        }
      ]
    },
    {
      "cell_type": "code",
      "source": [
        "df.info()"
      ],
      "metadata": {
        "colab": {
          "base_uri": "https://localhost:8080/"
        },
        "id": "iCTrUPNaCbKk",
        "outputId": "3bd5c9dd-aeba-4de0-ba5a-81340e087523"
      },
      "execution_count": 25,
      "outputs": [
        {
          "output_type": "stream",
          "name": "stdout",
          "text": [
            "<class 'pandas.core.frame.DataFrame'>\n",
            "Index: 6861 entries, 0 to 7275\n",
            "Data columns (total 2 columns):\n",
            " #   Column     Non-Null Count  Dtype \n",
            "---  ------     --------------  ----- \n",
            " 0   User       6861 non-null   object\n",
            " 1   Assistant  6861 non-null   object\n",
            "dtypes: object(2)\n",
            "memory usage: 160.8+ KB\n"
          ]
        }
      ]
    },
    {
      "cell_type": "code",
      "source": [
        "df.isnull().sum()"
      ],
      "metadata": {
        "colab": {
          "base_uri": "https://localhost:8080/",
          "height": 147
        },
        "id": "ueQPt_JgCcW8",
        "outputId": "faf6997f-92a2-452c-ba2c-397aa33fd1d9"
      },
      "execution_count": 26,
      "outputs": [
        {
          "output_type": "execute_result",
          "data": {
            "text/plain": [
              "User         0\n",
              "Assistant    0\n",
              "dtype: int64"
            ],
            "text/html": [
              "<div>\n",
              "<style scoped>\n",
              "    .dataframe tbody tr th:only-of-type {\n",
              "        vertical-align: middle;\n",
              "    }\n",
              "\n",
              "    .dataframe tbody tr th {\n",
              "        vertical-align: top;\n",
              "    }\n",
              "\n",
              "    .dataframe thead th {\n",
              "        text-align: right;\n",
              "    }\n",
              "</style>\n",
              "<table border=\"1\" class=\"dataframe\">\n",
              "  <thead>\n",
              "    <tr style=\"text-align: right;\">\n",
              "      <th></th>\n",
              "      <th>0</th>\n",
              "    </tr>\n",
              "  </thead>\n",
              "  <tbody>\n",
              "    <tr>\n",
              "      <th>User</th>\n",
              "      <td>0</td>\n",
              "    </tr>\n",
              "    <tr>\n",
              "      <th>Assistant</th>\n",
              "      <td>0</td>\n",
              "    </tr>\n",
              "  </tbody>\n",
              "</table>\n",
              "</div><br><label><b>dtype:</b> int64</label>"
            ]
          },
          "metadata": {},
          "execution_count": 26
        }
      ]
    },
    {
      "cell_type": "code",
      "source": [
        "def prep_openai_format(conversation, system_message=None):\n",
        "  messages = []\n",
        "  messages.append({\n",
        "      \"role\": \"system\",\n",
        "      \"content\": system_message\n",
        "    })\n",
        "  messages.append({\n",
        "      \"role\": \"user\",\n",
        "      \"content\": conversation['User']\n",
        "    })\n",
        "  messages.append({\n",
        "      \"role\": \"assistant\",\n",
        "      \"content\": conversation['Assistant']\n",
        "    })\n",
        "  output_dict = {\n",
        "        \"messages\": messages\n",
        "    }\n",
        "\n",
        "  return output_dict"
      ],
      "metadata": {
        "id": "keQtar1d51UN"
      },
      "execution_count": 27,
      "outputs": []
    },
    {
      "cell_type": "code",
      "source": [
        "system_message = \"You are a chatbot designed to explain medical terms, please answer the patients questions like a doctor.\""
      ],
      "metadata": {
        "id": "grFmAyDi51NJ"
      },
      "execution_count": 28,
      "outputs": []
    },
    {
      "cell_type": "code",
      "source": [
        "dataset = []\n",
        "for i in range(len(df)):\n",
        "  record = prep_openai_format(df.iloc[i], system_message=system_message)\n",
        "  dataset.append(record)"
      ],
      "metadata": {
        "id": "Zj4SPKRg51WX"
      },
      "execution_count": 29,
      "outputs": []
    },
    {
      "cell_type": "code",
      "source": [
        "# initial dataset\n",
        "print(\"Examples : \", len(dataset))\n",
        "print(\"First Example:\")\n",
        "for message in dataset[0]['messages']:\n",
        "  print(message)"
      ],
      "metadata": {
        "colab": {
          "base_uri": "https://localhost:8080/"
        },
        "id": "pIkOHE2i51Yo",
        "outputId": "1c7370b3-cc64-41e1-b40a-c634c517b74b"
      },
      "execution_count": 30,
      "outputs": [
        {
          "output_type": "stream",
          "name": "stdout",
          "text": [
            "Examples :  6861\n",
            "First Example:\n",
            "{'role': 'system', 'content': 'You are a chatbot designed to explain medical terms, please answer the patients questions like a doctor.'}\n",
            "{'role': 'user', 'content': 'Paracetamol poisoning'}\n",
            "{'role': 'assistant', 'content': 'Paracetamol poisoning, also known as acetaminophen poisoning, is caused by excessive use of the medication paracetamol (acetaminophen). Most people have few or non-specific symptoms in the first 24 hours following overdose. These include feeling tired, abdominal pain, or nausea. This is typically followed by a couple of days without any symptoms, after which yellowish skin, blood clotting problems, and confusion occurs as a result of liver failure. Additional complications may include kidney failure, pancreatitis, low blood sugar, and lactic acidosis. If death does not occur, people tend to recover fully over a couple of weeks. Without treatment, death from toxicity occurs 4 to 18 days later.Paracetamol poisoning can occur accidentally or as an attempt to die by suicide. Risk factors for toxicity include alcoholism, malnutrition, and the taking of certain other hepatotoxic medications. Liver damage results not from paracetamol itself, but from one of its metabolites, N-acetyl-p-benzoquinone imine (NAPQI). NAPQI decreases the livers glutathione and directly damages cells in the liver. Diagnosis is based on the blood level of paracetamol at specific times after the medication was taken. These values are often plotted on the Rumack-Matthew nomogram to determine level of concern.Treatment may include activated charcoal if the person seeks medical help soon after the overdose. Attempting to force the person to vomit is not recommended. If there is a potential for toxicity, the antidote acetylcysteine is recommended. The medication is generally given for at least 24 hours. Psychiatric care may be required following recovery. A liver transplant may be required if damage to the liver becomes severe. The need for transplant is often based on low blood pH, high blood lactate, poor blood clotting, or significant hepatic encephalopathy. With early treatment liver failure is rare. Death occurs in about 0.1% of cases.Paracetamol poisoning was first described in the 1960s. Rates of poisoning vary significantly between regions of the world. In the United States more than 100,000 cases occur a year. In the United Kingdom it is the medication responsible for the greatest number of overdoses. Young children are most commonly affected. In the United States and the United Kingdom, paracetamol is the most common cause of acute liver failure.\\n\\nSigns and symptoms\\nThe signs and symptoms of paracetamol toxicity occur in three phases. The first phase begins within hours of overdose, and consists of nausea, vomiting, a pale appearance, and sweating. However, patients often have no specific symptoms or only mild symptoms in the first 24 hours of poisoning. Rarely, after massive overdoses, patients may develop symptoms of metabolic acidosis and coma early in the course of poisoning.The second phase occurs between 24 hours and 72 hours following overdose and consists of signs of increasing liver damage. In general, damage occurs in liver cells as they metabolize the paracetamol. The individual may experience right upper quadrant abdominal pain. The increasing liver damage also changes biochemical markers of liver function; International normalized ratio (INR) and the liver transaminases ALT and AST rise to abnormal levels. Acute kidney failure may also occur during this phase, typically caused by either hepatorenal syndrome or multiple organ dysfunction syndrome. In some cases, acute kidney failure may be the primary clinical manifestation of toxicity. In these cases, it has been suggested that the toxic metabolite is produced more in the kidneys than in the liver.The third phase follows at 3 to 5 days, and is marked by complications of massive liver necrosis leading to fulminant liver failure with complications of coagulation defects, low blood sugar, kidney failure, hepatic encephalopathy, brain swelling, sepsis, multiple organ failure, and death. If the third phase is survived, the liver necrosis runs its course, and liver and kidney function typically return to normal in a few weeks. The severity of paracetamol toxicity varies depending on the dose and whether appropriate treatment is received.\\n\\nCause\\nThe toxic dose of paracetamol is highly variable. In general the recommended maximum daily dose for healthy adults is 4 grams. Higher doses lead to increasing risk of toxicity. In adults, single doses above 10 grams or 200 mg/kg of bodyweight, whichever is lower, have a reasonable likelihood of causing toxicity. Toxicity can also occur when multiple smaller doses within 24 hours exceed these levels. Following a dose of 1 gram of paracetamol four times a day for two weeks, patients can expect an increase in alanine transaminase in their liver to typically about three times the normal value. It is unlikely that this dose would lead to liver failure. Studies have shown significant hepatotoxicity is uncommon in patients who have taken greater than normal doses over 3 to 4 days. In adults, a dose of 6 grams a day over the preceding 48 hours could potentially lead to toxicity, while in children acute doses above 200 mg/kg could potentially cause toxicity. Acute paracetamol overdose in children rarely causes illness or death, and it is very uncommon for children to have levels that require treatment, with chronic larger-than-normal doses being the major cause of toxicity in children.Intentional overdosing (self-poisoning, with suicidal intent) is frequently implicated in paracetamol toxicity. In a 2006 review, paracetamol was the most frequently ingested compound in intentional overdosing.In rare individuals, paracetamol toxicity can result from normal use. This may be due to individual (\"idiosyncratic\") differences in the expression and activity of certain enzymes in one of the metabolic pathways that handle paracetamol (see paracetamols metabolism).\\n\\nRisk factors\\nA number of factors can potentially increase the risk of developing paracetamol toxicity. Chronic excessive alcohol consumption can induce CYP2E1, thus increasing the potential toxicity of paracetamol. In one study of patients with liver injury, 64% reported alcohol intakes of greater than 80 grams a day, while 35% took 60 grams a day or less. Whether chronic alcoholism should be considered a risk factor has been debated by some clinical toxicologists. For chronic alcohol users, acute alcohol ingestion at the time of a paracetamol overdose may have a protective effect. For non-chronic alcohol users, acute alcohol consumption had no protective effect.\\nFasting is a risk factor, possibly because of depletion of liver glutathione reserves. The concomitant use of the CYP2E1 inducer isoniazid increases the risk of hepatotoxicity, though whether 2E1 induction is related to the hepatotoxicity in this case is unclear. Concomitant use of other drugs that induce CYP enzymes, such as antiepileptics including carbamazepine, phenytoin, and barbiturates, have also been reported as risk factors.\\n\\nPathophysiology\\nWhen taken in normal therapeutic doses, paracetamol has been shown to be safe. Following a therapeutic dose, it is mostly converted to nontoxic metabolites via Phase II metabolism by conjugation with sulfate and glucuronide, with a small portion being oxidized via the cytochrome P450 enzyme system. Cytochromes P450 2E1 and 3A4 convert approximately 5% of paracetamol to a highly reactive intermediary metabolite, N-acetyl-p-benzoquinone imine (NAPQI). Under normal conditions, NAPQI is detoxified by conjugation with glutathione to form cysteine and mercapturic acid conjugates.In cases of paracetamol overdose, the sulfate and glucuronide pathways become saturated, and more paracetamol is shunted to the cytochrome P450 system to produce NAPQI. As a result, hepatocellular supplies of glutathione become depleted, as the demand for glutathione is higher than its regeneration. NAPQI therefore remains in its toxic form in the liver and reacts with cellular membrane molecules, resulting in widespread hepatocyte damage and death, leading to acute liver necrosis. In animal studies, the livers stores of glutathione must be depleted to less than 70% of normal levels before liver toxicity occurs.\\n\\nDiagnosis\\nA persons history of taking paracetamol is somewhat accurate for the diagnosis. The most effective way to diagnose poisoning is by obtaining a blood paracetamol level. A drug nomogram developed in 1975, called the Rumack-Matthew nomogram, estimates the risk of toxicity based on the serum concentration of paracetamol at a given number of hours after ingestion. To determine the risk of potential hepatotoxicity, the paracetamol level is traced along the nomogram. Use of a timed serum paracetamol level plotted on the nomogram appears to be the best marker indicating the potential for liver injury. A paracetamol level drawn in the first four hours after ingestion may underestimate the amount in the system because paracetamol may still be in the process of being absorbed from the gastrointestinal tract. Therefore, a serum level taken before 4 hours is not recommended.Clinical or biochemical evidence of liver toxicity may develop in one to four days, although, in severe cases, it may be evident in 12 hours. Right-upper-quadrant tenderness may be present and can aid in diagnosis. Laboratory studies may show evidence of liver necrosis with elevated AST, ALT, bilirubin, and prolonged coagulation times, particularly an elevated prothrombin time. After paracetamol overdose, when AST and ALT exceed 1000 IU/L, paracetamol-induced hepatotoxicity can be diagnosed. In some cases, the AST and ALT levels can exceed 10,000 IU/L.\\n\\nDetection in body fluids\\nParacetamol may be quantified in blood, plasma, or urine as a diagnostic tool in clinical poisoning situations or to aid in the medicolegal investigation of suspicious deaths. The concentration in serum after a typical dose of paracetamol usually peaks below 30 mg/L, which equals 200 μmol/L. Levels of 30–300 mg/L (200–2000 μmol/L) are often observed in overdose patients. Postmortem blood levels have ranged from 50 to 400 mg/L in persons dying due to acute overdosage. Automated colorimetric techniques, gas chromatography and liquid chromatography are currently in use for the laboratory analysis of the drug in physiological specimens.\\n\\nPrevention\\nLimitation of availability\\nLimiting the availability of paracetamol tablets has been attempted in some countries. In the UK, sales of over-the-counter paracetamol are restricted to packs of 32 x 500 mg tablets in pharmacies, and 16 x 500 mg tablets in non-pharmacy outlets. Pharmacists may provide up to 100 tablets for those with chronic conditions at the pharmacists discretion. In Ireland, the limits are 24 and 12 tablets, respectively. Subsequent study suggests that the reduced availability in large numbers had a significant effect in reducing poisoning deaths from paracetamol overdose.One suggested method of prevention is to make paracetamol a prescription-only medicine, or to remove it entirely from the market. However, overdose is a relatively minor problem; for example, 0.08% of the UK population (over 50 thousand people) present with paracetamol overdose each year. In contrast, paracetamol is a safe and effective medication that is taken without complications by millions of people. In addition, alternative pain relief medications such as aspirin are more toxic in overdose, whereas non-steroidal anti-inflammatory drugs are associated with more adverse effects following normal use.\\n\\nCombination with other agents\\nOne strategy for reducing harm done by acetaminophen overdoses is selling paracetamol pre-combined in tablets either with an emetic or an antidote. Paradote was a tablet sold in the UK which combined 500 mg paracetamol with 100 mg methionine, an amino acid formerly used in the treatment of paracetamol overdose.\\nThere have been no studies so far on the effectiveness of paracetamol when given in combination with its most commonly used antidote, acetylcysteine.Calcitriol, the active metabolite of vitamin D3, appears to be a catalyst for glutathione production. Calcitriol was found to increase glutathione levels in rat astrocyte primary cultures on average by 42%, increasing glutathione protein concentrations from 29 nmol/mg to 41 nmol/mg, 24 and 48 hours after administration; it continued to have an influence on glutathione levels 96 hours after administration. It has been proposed that co-administration of calcitriol, via injection, may improve treatment outcomes.\\n\\nParacetamol replacements\\nParacetamol ester prodrug with L-pyroglutamic acid (PCA), a biosynthetic precursor of glutathione, has been synthesized to reduce paracetamol hepatotoxicity and improve bioavailability. The toxicological studies of different paracetamol esters show that L-5-oxo-pyrrolidine-2-paracetamol carboxylate reduces toxicity after administration of an overdose of paracetamol to mice. The liver glutathione values in mice induced by intraperitoneal injection of the ester are superimposable with the GSH levels recorded in untreated mice control group. The mice group treated with an equivalent dose of paracetamol showed a significative decrease of glutathione of 35% (p<0.01 vs untreated control group). The oral LD50 was found to be greater than 2000 mg kg-1, whereas the intraperitoneal LD50 was 1900 mg kg-1. These results taken together with the good hydrolysis and bioavailability data show that this ester is a potential candidate as a prodrug of paracetamol.\\n\\nTreatment\\nGastric decontamination\\nIn adults, the initial treatment for paracetamol overdose is gastrointestinal decontamination. Paracetamol absorption from the gastrointestinal tract is complete within two hours under normal circumstances, so decontamination is most helpful if performed within this timeframe. Gastric lavage, better known as stomach pumping, may be considered if the amount ingested is potentially life-threatening and the procedure can be performed within 60 minutes of ingestion. Activated charcoal is the most common gastrointestinal decontamination procedure as it adsorbs paracetamol, reducing its gastrointestinal absorption. Administering activated charcoal also poses less risk of aspiration than gastric lavage.It appears that the most benefit from activated charcoal is gained if it is given within 30 minutes to two hours of ingestion. Administering activated charcoal later than 2 hours can be considered in patients that may have delayed gastric emptying due to co-ingested drugs or following ingestion of sustained- or delayed-release paracetamol preparations. Activated charcoal should also be administered if co-ingested drugs warrant decontamination. There was reluctance to give activated charcoal in paracetamol overdose, because of the concern that it may also absorb the oral antidote acetylcysteine. Studies have shown that 39% less acetylcysteine is absorbed into the body when they are administered together. There are conflicting recommendations regarding whether to change the dosing of oral acetylcysteine after the administration of activated charcoal, and even whether the dosing of acetylcysteine needs to be altered at all. Intravenous acetylcysteine has no interaction with activated charcoal.\\nInducing vomiting with syrup of ipecac has no role in paracetamol overdose because the vomiting it induces delays the effective administration of activated charcoal and oral acetylcysteine. Liver injury is extremely rare after acute accidental ingestion in children under 6 years of age. Children with accidental exposures do not require gastrointestinal decontamination with either gastric lavage, activated charcoal, or syrup of ipecac.\\n\\nAcetylcysteine\\nAcetylcysteine, also called N-acetylcysteine or NAC, works to reduce paracetamol toxicity by replenishing body stores of the antioxidant glutathione. Glutathione reacts with the toxic NAPQI metabolite so that it does not damage cells and can be safely excreted. NAC was usually given following a treatment nomogram (one for patients with risk factors, and one for those without) but the use of the nomogram is no longer recommended as the evidence base to support the use of risk factors was poor and inconsistent and many of the risk factors are imprecise and difficult to determine with sufficient certainty in clinical practice. Cysteamine and methionine have also been used to prevent hepatotoxicity, although studies show that both are associated with more adverse effects than acetylcysteine. Additionally, acetylcysteine has been shown to be a more effective antidote, particularly in patients presenting greater than 8 hours post-ingestion and for those who present with liver failure symptoms.If the person presents less than eight hours after paracetamol overdose, then acetylcysteine significantly reduces the risk of serious hepatotoxicity and guarantees survival. If acetylcysteine is started more than 8 hours after ingestion, there is a sharp decline in its effectiveness because the cascade of toxic events in the liver has already begun, and the risk of acute liver necrosis and death increases dramatically. Although acetylcysteine is most effective if given early, it still has beneficial effects if given as late as 48 hours after ingestion. If the person presents more than eight hours after the paracetamol overdose, then activated charcoal is not useful, and acetylcysteine is started immediately. In earlier presentations, charcoal can be given when the patient arrives and acetylcysteine is initiated while waiting for the paracetamol level results to return from the laboratory.In United States practice, intravenous (IV) and oral administration are considered to be equally effective and safe if given within 8 hours of ingestion. However, IV is the only recommended route in Australasian and British practice. Oral acetylcysteine is given as a 140 mg/kg loading dose followed by 70 mg/kg every four hours for 17 more doses, and if the patient vomits within 1 hour of dose, the dose must be repeated. Oral acetylcysteine may be poorly tolerated due to its unpleasant taste, odor, and its tendency to cause nausea and vomiting. If repeated doses of charcoal are indicated because of another ingested drug, then subsequent doses of charcoal and acetylcysteine should be staggered.Intravenous acetylcysteine is given as a continuous infusion over 20 hours for a total dose 300 mg/kg. Recommended administration involves infusion of a 150 mg/kg loading dose over 15 to 60 minutes, followed by a 50 mg/kg infusion over four hours; the last 100 mg/kg are infused over the remaining 16 hours of the protocol. Intravenous acetylcysteine has the advantage of shortening hospital stay, increasing both doctor and patient convenience, and allowing administration of activated charcoal to reduce absorption of both the paracetamol and any co-ingested drugs without concerns about interference with oral acetylcysteine.  Intravenous dosing varies with weight, specifically in children. For patients less than 20 kg, the loading dose is 150 mg/kg in 3 mL/kg diluent, administered over 60 minutes; the second dose is 50 mg/kg in 7 mL/kg diluent over 4 hours; and the third and final dose is 100 mg/kg in 14 mL/kg diluent over 16 hours.The most common adverse effect to acetylcysteine treatment is an anaphylactoid reaction, usually manifested by rash, wheeze, or mild hypotension. May cause infertility or death. Adverse reactions are more common in people treated with IV acetylcysteine, occurring in up to 20% of patients. Anaphylactoid reactions are more likely to occur with the first infusion (the loading dose). Rarely, severe life-threatening reactions may occur in predisposed individuals, such as patients with asthma or atopic dermatitis, and may be characterized by respiratory distress, facial swelling, and even death.If an anaphylactoid reaction occurs the acetylcysteine is temporarily halted or slowed and antihistamines and other supportive care is administered. For example, a nebulised beta-agonist like salbutamol may be indicated in the event of significant bronchospasm (or prophylactically in patients with a history of bronchospasm secondary to acetylcysteine). It is also important to closely monitor fluids and electrolytes.\\n\\nLiver transplant\\nIn people who develop acute liver failure or who are otherwise expected to die from liver failure, the mainstay of management is liver transplantation. Liver transplants are performed in specialist centers. The most commonly used criteria for liver transplant were developed by physicians at Kings College Hospital in London. Patients are recommended for transplant if they have an arterial blood pH less than 7.3 after fluid resuscitation or if a patient has Grade III or IV encephalopathy, a prothrombin time greater than 100 seconds, and a serum creatinine greater than 300 mmol/L In a 24-hour period. Other forms of liver support have been used including partial liver transplants. These techniques have the advantage of supporting the patient while their own liver regenerates. Once liver function returns immunosuppressive drugs are commenced and they have to take immunosuppressive medication for the rest of their lives.\\n\\nPrognosis\\nThe mortality rate from paracetamol overdose increases two days after the ingestion, reaches a maximum on day four, and then gradually decreases. Acidosis is the most important single indicator of probable mortality and the need for transplantation. A mortality rate of 95% without transplant was reported in patients who had a documented pH less than 7.30. Other indicators of poor prognosis include chronic kidney disease (stage 3 or worse), hepatic encephalopathy, a markedly elevated prothrombin time, or an elevated blood lactic acid level (lactic acidosis). One study has shown that a factor V level less than 10% of normal indicated a poor prognosis (91% mortality), whereas a ratio of factor VIII to factor V of less than 30 indicated a good prognosis (100% survival). Patients with a poor prognosis are usually identified for likely liver transplantation. Patients that do not die are expected to fully recover and have a normal life expectancy and quality of life.\\n\\nEpidemiology\\nMany over-the-counter and prescription-only medications contain paracetamol. Because of its wide availability paired with comparably high toxicity, (compared to ibuprofen and aspirin) there is a much higher potential for overdose. Paracetamol toxicity is one of the most common causes of poisoning worldwide. In the United States, the United Kingdom, Australia, and New Zealand, paracetamol is the most common cause of drug overdoses. Additionally, in both the United States and the United Kingdom it is the most common cause of acute liver failure.In England and Wales an estimated 41,200 cases of paracetamol poisoning occurred in 1989 to 1990, with a mortality of 0.40%. It is estimated that 150 to 200 deaths and 15 to 20 liver transplants occur as a result of poisoning each year in England and Wales. Paracetamol overdose results in more calls to poison control centers in the US than overdose of any other pharmacological substance, accounting for more than 100,000 calls, as well as 56,000 emergency room visits, 2,600 hospitalizations, and 458 deaths due to acute liver failure per year. A study of cases of acute liver failure between November 2000 and October 2004 by the Centers for Disease Control and Prevention in the USA found that paracetamol was the cause of 41% of all cases in adults, and 25% of cases in children.\\n\\nReferences\\nExternal links\\nGerth, Jeff; T. Christian Miller (September 20, 2013). \"Use Only as Directed\". ProPublica. Retrieved October 12, 2013.'}\n"
          ]
        }
      ]
    },
    {
      "cell_type": "code",
      "source": [
        "for message in dataset[1]['messages']:\n",
        "  print(message)"
      ],
      "metadata": {
        "colab": {
          "base_uri": "https://localhost:8080/"
        },
        "id": "Pb1m4rA8BcS_",
        "outputId": "70ff1b82-a5cd-435a-da8a-2e0bec0eab00"
      },
      "execution_count": 31,
      "outputs": [
        {
          "output_type": "stream",
          "name": "stdout",
          "text": [
            "{'role': 'system', 'content': 'You are a chatbot designed to explain medical terms, please answer the patients questions like a doctor.'}\n",
            "{'role': 'user', 'content': 'Acromegaly'}\n",
            "{'role': 'assistant', 'content': 'Acromegaly is a disorder that results from excess growth hormone (GH) after the growth plates have closed. The initial symptom is typically enlargement of the hands and feet. There may also be an enlargement of the forehead, jaw, and nose. Other symptoms may include joint pain, thicker skin, deepening of the voice, headaches, and problems with vision. Complications of the disease may include type 2 diabetes, sleep apnea, and high blood pressure.Acromegaly is usually caused by the pituitary gland producing excess growth hormone. In more than 95% of cases the excess production is due to a benign tumor, known as a pituitary adenoma. The condition is not inherited from a persons parents. Acromegaly is rarely due to a tumor in another part of the body. Diagnosis is by measuring growth hormone after a person has consumed a glucose solution, or by measuring insulin-like growth factor I in the blood. After diagnosis, medical imaging of the pituitary is carried out to determine if an adenoma is present. If excess growth hormone is produced during childhood, the result is the condition gigantism rather than acromegaly, and it is characterized by excessive height.Treatment options include surgery to remove the tumor, medications, and radiation therapy. Surgery is usually the preferred treatment; the smaller the tumor, the more likely surgery will be curative. If surgery is contraindicated or not curative, somatostatin analogues or GH receptor antagonists may be used. Radiation therapy may be used if neither surgery nor medications are completely effective. Without treatment, life expectancy is reduced by 10 years; with treatment, life expectancy is not reduced.Acromegaly affects about 3 per 50,000 people. It is most commonly diagnosed in middle age. Males and females are affected with equal frequency. It was first described in the medical literature by Nicolas Saucerotte in 1772. The term is from the Greek ἄκρον (akron) meaning \"extremity\", and μέγα (mega) meaning \"large\".\\n\\nSigns and symptoms\\nFeatures that may result from a high level of GH or expanding tumor include:\\nHeadaches – often severe and prolonged\\nSoft tissue swelling visibly resulting in enlargement of the hands, feet, nose, lips, and ears, and a general thickening of the skin\\nSoft tissue swelling of internal organs, notably the heart with the attendant weakening of its muscularity, and the kidneys, also the vocal cords resulting in a characteristic thick, deep voice and slowing of speech\\nGeneralized expansion of the skull at the fontanelle\\nPronounced brow protrusion, often with ocular distension (frontal bossing)\\nPronounced lower jaw protrusion (prognathism) with attendant macroglossia (enlargement of the tongue) and teeth spacing\\nHypertrichosis, hyperpigmentation and hyperhidrosis may occur in these people.:\\u200a499\\u200a\\nSkin tags\\nCarpal tunnel syndrome\\n\\nComplications\\nProblems with bones and joints, including osteoarthritis, nerve compression syndrome due to bony overgrowth, and carpal tunnel syndrome\\nHypertension\\nDiabetes mellitus\\nCardiomyopathy, potentially leading to heart failure\\nColorectal cancer\\nSleep Apnea\\nThyroid nodules and thyroid cancer\\nHypogonadism\\nCompression of the optic chiasm by the growth of pituitary adenoma leading to visual problems\\n\\nCauses\\nPituitary adenoma\\nAbout 98% of cases of acromegaly are due to the overproduction of growth hormone by a benign tumor of the pituitary gland called an adenoma. These tumors produce excessive growth hormone and compress surrounding brain tissues as they grow larger. In some cases, they may compress the optic nerves. Expansion of the tumor may cause headaches and visual disturbances. In addition, compression of the surrounding normal pituitary tissue can alter production of other hormones, leading to changes in menstruation and breast discharge in women and impotence in men because of reduced testosterone production.A marked variation in rates of GH production and the aggressiveness of the tumor occurs. Some adenomas grow slowly and symptoms of GH excess are often not noticed for many years. Other adenomas grow rapidly and invade surrounding brain areas or the sinuses, which are located near the pituitary. In general, younger people tend to have more aggressive tumors.Most pituitary tumors arise spontaneously and are not genetically inherited. Many pituitary tumors arise from a genetic alteration in a single pituitary cell that leads to increased cell division and tumor formation. This genetic change, or mutation, is not present at birth but is acquired during life. The mutation occurs in a gene that regulates the transmission of chemical signals within pituitary cells; it permanently switches on the signal that tells the cell to divide and secrete growth hormones. The events within the cell that cause disordered pituitary cell growth and GH oversecretion currently are the subject of intensive research.Pituitary adenomas and diffuse somatomammotroph hyperplasia may result from somatic mutations activating GNAS, which may be acquired or associated with McCune-Albright syndrome.\\n\\nOther tumors\\nIn a few people, acromegaly is caused not by pituitary tumors, but by tumors of the pancreas, lungs, and adrenal glands. These tumors also lead to an excess of GH, either because they produce GH themselves or, more frequently, because they produce GHRH (growth hormone-releasing hormone), the hormone that stimulates the pituitary to make GH. In these people, the excess GHRH can be measured in the blood and establishes that the cause of the acromegaly is not due to a pituitary defect. When these nonpituitary tumors are surgically removed, GH levels fall and the symptoms of acromegaly improve.In people with GHRH-producing, non-pituitary tumors, the pituitary still may be enlarged and may be mistaken for a tumor. Therefore, it is important that physicians carefully analyze all \"pituitary tumors\" removed from people with acromegaly so as to not overlook the possibility that a tumor elsewhere in the body is causing the disorder.\\n\\nDiagnosis\\nIf acromegaly is suspected, medical laboratory investigations followed by medical imaging if the lab tests are positive confirms or rules out the presence of this condition.\\nIGF1 provides the most sensitive lab test for the diagnosis of acromegaly, and a GH suppression test following an oral glucose load, which is a very specific lab test, will confirm the diagnosis following a positive screening test for IGF1. A single value of the GH is not useful in view of its pulsatility (levels in the blood vary greatly even in healthy individuals). GH levels taken 2 hours after a 75- or 100-gram glucose tolerance test are helpful in the diagnosis: GH levels are suppressed below 1 μg/L in normal people, and levels higher than this cutoff are confirmatory of acromegaly.Other pituitary hormones must be assessed to address the secretory effects of the tumor, as well as the mass effect of the tumor on the normal pituitary gland. They include thyroid stimulating hormone (TSH), gonadotropic hormones (FSH, LH), adrenocorticotropic hormone, and prolactin.An MRI of the brain focusing on the sella turcica after gadolinium administration allows for clear delineation of the pituitary and the hypothalamus and the location of the tumor. A number of other overgrowth syndromes can result in similar problems.\\n\\nDifferential diagnosis\\nPseudoacromegaly is a condition with the usual acromegaloid features, but without an increase in growth hormone and IGF-1. It is frequently associated with insulin resistance. Cases have been reported due to minoxidil at an unusually high dose. It can also be caused by a selective post receptor defect of insulin signalling, leading to the impairment of metabolic, but preservation of mitogenic, signalling.\\n\\nTreatment\\nThe goals of treatment are to reduce GH production to normal levels thereby reversing or ameliorating the signs and symptoms of acromegaly, to relieve the pressure that the growing pituitary tumor exerts on the surrounding brain areas, and to preserve normal pituitary function. Currently, treatment options include surgical removal of the tumor, drug therapy, and radiation therapy of the pituitary.\\n\\nMedications\\nSomatostatin analogues\\nThe primary current medical treatment of acromegaly is to use somatostatin analogues – octreotide (Sandostatin) or lanreotide (Somatuline).\\nThese somatostatin analogues are synthetic forms of a brain hormone, somatostatin, which stops GH production. The long-acting forms of these drugs must be injected every 2 to 4 weeks for effective treatment. Most people with acromegaly respond to this medication. In many people with acromegaly, GH levels fall within one hour and headaches improve within minutes after the injection. Octreotide and lanreotide are effective for long-term treatment. Octreotide and lanreotide have also been used successfully to treat people with acromegaly caused by non-pituitary tumors.Somatostatin analogues are also sometimes used to shrink large tumors before surgery.Because octreotide inhibits gastrointestinal and pancreatic function, long-term use causes digestive problems such as loose stools, nausea, and gas in one third of people. In addition, approximately 25 percent of people with acromegaly develop gallstones, which are usually asymptomatic. In some cases, octreotide treatment can cause diabetes due to the fact that somatostatin and its analogues can inhibit the release of insulin. With an aggressive adenoma that is not able to be operated on, there may be a resistance to octreotide and in which case a second generation SSA, pasireotide, may be used for tumor control. However, insulin and glucose levels should be carefully monitored as pasireotide has been associated with hyperglycemia by reducing insulin secretion.\\n\\nDopamine agonists\\nFor those who are unresponsive to somatostatin analogues, or for whom they are otherwise contraindicated, it is possible to treat using one of the dopamine agonists, bromocriptine or cabergoline. As tablets rather than injections, they cost considerably less. These drugs can also be used as an adjunct to somatostatin analogue therapy. They are most effective in those whose pituitary tumours cosecrete prolactin. Side effects of these dopamine agonists include gastrointestinal upset, nausea, vomiting, light-headedness when standing, and nasal congestion. These side effects can be reduced or eliminated if medication is started at a very low dose at bedtime, taken with food, and gradually increased to the full therapeutic dose. Bromocriptine lowers GH and IGF-1 levels and reduces tumor size in fewer than half of people with acromegaly. Some people report improvement in their symptoms although their GH and IGF-1 levels still are elevated.\\n\\nGrowth hormone receptor antagonists\\nThe latest development in the medical treatment of acromegaly is the use of growth hormone receptor antagonists. The only available member of this family is pegvisomant (Somavert). By blocking the action of the endogenous growth hormone molecules, this compound is able to control the disease activity of acromegaly in virtually everyone with acromegaly. Pegvisomant has to be administered subcutaneously by daily injections. Combinations of long-acting somatostatin analogues and weekly injections of pegvisomant seem to be equally effective as daily injections of pegvisomant.\\n\\nSurgery\\nSurgical removal of the pituitary tumor is usually effective in lowering growth hormone levels. Two surgical procedures are available for use. The first is endonasal transsphenoidal surgery, which involves the surgeon reaching the pituitary through an incision in the nasal cavity wall. The wall is reached by passing through the nostrils with microsurgical instruments. The second method is transsphenoidal surgery during which an incision is made into the gum beneath the upper lip. Further incisions are made to cut through the septum to reach the nasal cavity, where the pituitary is located. Endonasal transsphenoidal surgery is a less invasive procedure with a shorter recovery time than the older method of transsphenoidal surgery, and the likelihood of removing the entire tumor is greater with reduced side effects. Consequently, endonasal transsphenoidal surgery is the more common surgical choice.These procedures normally relieve the pressure on the surrounding brain regions and lead to a lowering of GH levels. Surgery is most successful in people with blood GH levels below 40 ng/ml before the operation and with pituitary tumors no larger than 10 mm in diameter. Success depends on the skill and experience of the surgeon. The success rate also depends on what level of GH is defined as a cure. The best measure of surgical success is the normalization of GH and IGF-1 levels. Ideally, GH should be less than 2 ng/ml after an oral glucose load. A review of GH levels in 1,360 people worldwide immediately after surgery revealed that 60% had random GH levels below 5 ng/ml. Complications of surgery may include cerebrospinal fluid leaks, meningitis, or damage to the surrounding normal pituitary tissue, requiring lifelong pituitary hormone replacement.Even when surgery is successful and hormone levels return to normal, people must be carefully monitored for years for possible recurrence. More commonly, hormone levels may improve, but not return completely to normal. These people may then require additional treatment, usually with medications.\\n\\nRadiation therapy\\nRadiation therapy has been used both as a primary treatment and combined with surgery or drugs. It is usually reserved for people who have tumor remaining after surgery. These people often also receive medication to lower GH levels. Radiation therapy is given in divided doses over four to six weeks. This treatment lowers GH levels by about 50 percent over 2 to 5 years. People monitored for more than 5 years show significant further improvement. Radiation therapy causes a gradual loss of production of other pituitary hormones with time. Loss of vision and brain injury, which have been reported, are very rare complications of radiation treatments.\\n\\nSelection of treatment\\nThe initial treatment chosen should be individualized depending on the persons characteristics, such as age and tumor size. If the tumor has not yet invaded surrounding brain tissues, removal of the pituitary adenoma by an experienced neurosurgeon is usually the first choice. After surgery, a person must be monitored long-term for increasing GH levels.If surgery does not normalize hormone levels or a relapse occurs, a doctor will usually begin additional drug therapy. The current first choice is generally octreotide or lanreotide; however, bromocriptine and cabergoline are both cheaper and easier to administer. With all of these medications, long-term therapy is necessary, because their withdrawal can lead to rising GH levels and tumor re-expansion.Radiation therapy is generally used for people whose tumors are not completely removed by surgery, for people who are not good candidates for surgery because of other health problems, and for people who do not respond adequately to surgery and medication.\\n\\nPrognosis\\nLife expectancy of people with acromegaly is dependent on how early the disease is detected. Life expectancy after the successful treatment of early disease is equal to that of the general population. Acromegaly can often go on for years before diagnosis, resulting in poorer outcome, and it is suggested that the better the growth hormone is controlled, the better the outcome. Upon successful surgical treatment, headaches and visual symptoms tend to resolve. One exception is sleep apnea, which is present in around 70% of cases, but does not tend to resolve with successful treatment of growth hormone level. While hypertension is a complication of 40% of cases, it typically responds well to regular regimens of blood pressure medication. Diabetes that occurs with acromegaly is treated with the typical medications, but successful lowering of growth hormone levels often alleviates symptoms of diabetes. Hypogonadism without gonad destruction is reversible with treatment. Acromegaly is associated with a slightly elevated risk of cancer.\\n\\nNotable people\\nFamous people with acromegaly include:\\n\\nDaniel Cajanus (1704–1749), \"The Finnish Goliath\". His natural size portrait and femur are still extant. His height was estimated to have been 247 cm (8 1\").\\nMary Ann Bevan (1874–1933), an English woman, who after developing acromegaly, toured the sideshow circuit as \"the ugliest woman in the world\".\\nAndré the Giant (born André Roussimoff, 1946–1993), French professional wrestler and actor\\nSalvatore Baccaro (1932–1984), Italian character actor. Active in B-movies, comedies, and horrors because of his peculiar features and spontaneous sympathy\\nPaul Benedict (1938–2008), American actor. Best known for portraying Harry Bentley, The Jeffersons English next door neighbour\\nBig Show (born Paul Wight; 1972), American professional wrestler and actor, had his pituitary tumor removed in 1991.\\nEddie Carmel, born Oded Ha-Carmeili (1936–1972), Israeli-born entertainer with gigantism and acromegaly, popularly known as \"The Jewish Giant\"\\nTed Cassidy (1932–1979), American actor. Best known for portraying Lurch in the TV sitcom The Addams Family\\nRondo Hatton (1894–1946), American journalist and actor. A Hollywood favorite in B-movie horror films of the 1930s and 1940s. Hattons disfigurement, due to acromegaly, developed over time, beginning during his service in World War I.\\nSultan Kösen, the worlds tallest man\\nMaximinus Thrax, Roman emperor (c.\\u2009 173, reigned 235–238). Descriptions, as well as depictions, indicate acromegaly, though remains of his body are yet to be found.\\nThe Great Khali (born Dalip Singh Rana), Indian professional wrestler, is best known for his tenure with WWE. He had his pituitary tumor removed in 2012 at age 39.\\nPrimo Carnera (1906–1967), nicknamed the Ambling Alp, was an Italian professional boxer and wrestler who reigned as the boxing World Heavyweight Champion from 29 June 1933 to 14 June 1934.\\nMaurice Tillet (1903–1954), Russian-born French professional wrestler, is better known by his ring name, the French Angel.\\nRichard Kiel (1939–2014), actor, \"Jaws\" from two James Bond movies and Mr. Larson in Happy Gilmore\\nPío Pico, the last Mexican Governor of California (1801–1894), manifested acromegaly without gigantism between at least 1847 and 1858. Some time after 1858, signs of the growth hormone-producing tumor disappeared along with all the secondary effects the tumor had caused in him. He looked normal in his 90s. His remarkable recovery is likely an example of spontaneous selective pituitary tumor apoplexy.\\nEarl Nightingale (March 12, 1921 – March 25, 1989) was an American radio speaker and author, dealing mostly with the subjects of human character development, motivation, and meaningful existence. He was the voice during the early 1950s of Sky King, the hero of a radio adventure series, and was a WGN radio program host from 1950 to 1956. Nightingale was the author of The Strangest Secret, which economist Terry Savage has termed \"…one of the great motivational books of all time.\" Nightingale’s daughter, Pamela, mentioned her father had acromegaly during a podcast about her father that aired in June 2022.\\nTony Robbins, motivational speaker\\nCarel Struycken, Dutch actor, 2.13 m (7.0 ft), is best known for playing Lurch in The Addams Family film trilogy, The Giant in Twin Peaks, Lwaxana Trois silent Servant Mr. Homn in Star Trek: The Next Generation, and The Moonlight Man in Geralds Game, based on the Stephen King book.\\nPeter Mayhew (1944–2019), British-American actor, was diagnosed with gigantism at age eight. Best known for portraying Chewbacca in the Star Wars film series.\\nIrwin Keyes, American actor. Best known for portraying Hugo Mojoloweski, Georges occasional bodyguard on The Jeffersons\\nMorteza Mehrzad, Iranian Paralympian and medalist. Member of the Iranian sitting volleyball team. Top scorer in the 2016 gold medal match\\nNeil McCarthy, British actor. Known for roles in Zulu, Time Bandits, and many British television series\\nNikolai Valuev, Russian politician and former professional boxer\\nAntônio \"Bigfoot\" Silva, Brazilian kickboxer and mixed martial arts fighter.\\n(Leonel) Edmundo Rivero, Argentine tango singer, composer and impresarioIt has been argued that Lorenzo de Medici (1449–92) may have had acromegaly. Historical documents and portraits, as well as a later analysis of his skeleton, support the speculation.\\nPianist and composer Sergei Rachmaninoff, noted for his hands that could comfortably stretch a 13th on the piano, was never diagnosed with acromegaly in his lifetime, but a medical article from 2006 suggests that he might have had it.The Bogdanoff twins had shown some signs of acromegaly and their continued denials that they had plastic surgery that greatly altered their facial appearance made some consider the disease. However, acromegaly was not proven before they died.\\n\\nSee also\\nHypothalamic–pituitary–somatic axis\\nMacrognathism\\n\\nReferences\\nExternal links\\nAcromegaly at Curlie\\n2011 American Association of Clinical Endocrinologists Guideline Archived 29 August 2017 at the Wayback Machine\\nEndocrine and Metabolic Diseases Information Service'}\n"
          ]
        }
      ]
    },
    {
      "cell_type": "code",
      "source": [
        "for message in dataset[6860]['messages']:\n",
        "  print(message)"
      ],
      "metadata": {
        "colab": {
          "base_uri": "https://localhost:8080/"
        },
        "id": "j_cC8QQHCo5F",
        "outputId": "5937982d-4e69-4d59-f533-5b1c492a8793"
      },
      "execution_count": 32,
      "outputs": [
        {
          "output_type": "stream",
          "name": "stdout",
          "text": [
            "{'role': 'system', 'content': 'You are a chatbot designed to explain medical terms, please answer the patients questions like a doctor.'}\n",
            "{'role': 'user', 'content': 'Occipital neuralgia'}\n",
            "{'role': 'assistant', 'content': 'Occipital neuralgia (ON) is a painful condition affecting the posterior head in the distributions of the greater occipital nerve (GON), lesser occipital nerve (LON), third occipital nerve (TON), or a combination of the three. It is paroxysmal, lasting from seconds to minutes, and often consists of lancinating pain that directly results from the pathology of one of these nerves. It is paramount that physicians understand the differential diagnosis for this condition and specific diagnostic criteria. There are multiple treatment modalities, several of which have well-established efficacy in treating this condition.\\n\\nSigns and symptoms\\nPatients presenting with a headache originating at the posterior skull base should be evaluated for ON. This condition typically presents as a paroxysmal, lancinating or stabbing pain lasting from seconds to minutes, and therefore a continuous, aching pain likely indicates a different diagnosis. Bilateral symptoms are present in one-third of cases.\\n\\nCauses\\nOccipital neuralgia is caused by damage to the occipital nerves, which can arise from trauma (usually concussive or cervical), physical stress on the nerve, repetitive neck contraction, flexion or extension, and/or as a result of medical complications (such as osteochondroma, a benign bone tumour). A rare cause is a cerebrospinal fluid leak. Rarely, occipital neuralgia may be a symptom of metastasis of certain cancers to the spine.  Among other cranial neuropathies, occipital neuralgia is also known to occur in patients with multiple sclerosis.\\n\\nDifferential diagnosis\\nThe conditions most easily mistaken with ON for other headache and facial pain disorders include migraine, cluster headache, tension headache, and hemicrania continua. Mechanical neck pain from an upper disc, facet, or musculoligamentous sources may refer to the occiput, but is not classically lancinating or otherwise neuropathic and should not be confused with ON. A crucial step in differentiating ON from other disorders is relief with an occipital nerve block.\\n\\nEpidemiology\\nIn one study investigating the incidence of facial pain in a Dutch population, ON comprised 8.3% of facial pain cases. The total incidence of ON was 3.2 per 100,000 people, with a mean age of diagnosis of 54.1 years.\\n\\nTreatment\\nThere are multiple treatment options for ON. The most conservative treatments, such as immobilization of the neck by the cervical collar, physiotherapy, and cryotherapy have not been shown to perform better than placebo. Non-steroidal anti-inflammatory drugs, tricyclic antidepressants, serotonin-norepinephrine reuptake inhibitors, and anticonvulsants may help to alleviate symptoms. Following diagnostic nerve blocks, therapeutic blocks may be attempted. Typically, a steroid is added to the local anesthetic with variable results. Botulinum Toxin A injection has emerged as a treatment with a conceptually lower side effect profile than many other techniques described here, with most recent trials demonstrating 50% or more improvement.It remains a common practice to utilize a landmark-only approach when performing greater and lesser occipital nerve blocks. For blockade of both nerves, medication is infiltrated along the nuchal ridge. This technique, while easy to perform and relatively safe if done correctly, may not be particularly accurate and as a result, could theoretically increase the risk of a false-positive result. To improve accuracy, ultrasound-guided techniques were developed. The original ultrasound-guided technique for injection of the GON was described by Greher and colleagues in 2010; it targets the nerve as it courses superficial to the obliquus capitis inferior muscle at the C1-C2 level.There are several advanced interventional procedures in clinical use:\\nPulsed or thermal radiofrequency ablation (RFA) may be considered for longer-lasting relief after a local anesthetic blockade confirms the diagnosis. Thermal RFA aimed at destroying the nerve architecture can render long-term analgesia but also comes with the potential risks of hypesthesia, dysesthesia, anesthesia dolorosa, and painful neuroma formation. Chemical neurolysis with alcohol or phenol carries the same risks as thermal RFA. There is no such risk with pulsed RF, however, some question its efficacy as compared to other procedures.\\nNeuromodulation of the occipital nerve(s) involves the placement of nerve stimulator leads in a horizontal or oblique orientation at the base of the skull across where the greater occipital nerve emerges. Patients should be trialed with temporary leads first, and greater than 50% pain relief for several days is considered a successful trial after which permanent implantation may be considered. Risks include surgical site infection and lead or generator displacement or fracture after the operation.\\nUltrasound-guided percutaneous cryoablation of the GON is sometimes performed. At the correct temperature, there should be stunning but not permanent damage of the nerve, but at temperatures below negative 70 degrees Celsius, nerve injury is possible. Most recently in the literature, a 2018 article by Kastler and colleagues described 7 patients who underwent cryoneurolysis in a non-blinded fashion to good effect, but the follow-up was limited to 3 months.\\nSurgical decompression is often considered to be the last resort. In one study of 11 patients, only two patients did not experience significant pain relief postoperatively and mean pain episodes per month decreased from 17.1 to 4.1, with mean pain intensity scores also decreasing from 7.18 to 1.73. Resection of part of the obliquus capitis inferior muscle has shown success in patients who have an exacerbation of their pain with flexion of the cervical spine. Another popular surgical technique is C2 gangliotomy, even though patients are left with several days of intermittent nausea and dizziness. As with any large nerve resection, there is a theoretical risk of developing a deafferentation syndrome, though arguably the risk is lower if the resection is pre-ganglionic.\\n\\nReferences\\nExternal links\\n\\nOccipital Neuralgia - National Institute of Neurological Disorders and Stroke'}\n"
          ]
        }
      ]
    },
    {
      "cell_type": "markdown",
      "source": [
        "# **Error Checking**"
      ],
      "metadata": {
        "id": "NKWCSpd0_2rU"
      }
    },
    {
      "cell_type": "code",
      "source": [
        "def error_checker(dataset):\n",
        "  format_errors = defaultdict(lambda: defaultdict(int))\n",
        "\n",
        "  for idx, ex in enumerate(dataset):\n",
        "      if not isinstance(ex, dict):\n",
        "          format_errors[\"data_type\"][idx] += 1\n",
        "          continue\n",
        "\n",
        "      messages = ex.get(\"messages\", None)\n",
        "      if not messages:\n",
        "          format_errors[\"missing_messages_list\"][idx] += 1\n",
        "          continue\n",
        "\n",
        "      for message_idx, message in enumerate(messages):\n",
        "          if \"role\" not in message or \"content\" not in message:\n",
        "              format_errors[\"message_missing_key\"][idx] += 1\n",
        "\n",
        "          if any(k not in (\"role\", \"content\", \"name\") for k in message):\n",
        "              format_errors[\"message_unrecognized_key\"][idx] += 1\n",
        "\n",
        "          if message.get(\"role\", None) not in (\"system\", \"user\", \"assistant\"):\n",
        "              format_errors[\"unrecognized_role\"][idx] += 1\n",
        "\n",
        "          content = message.get(\"content\", None)\n",
        "          if not content or not isinstance(content, str):\n",
        "              format_errors[\"missing_content\"][idx] += 1\n",
        "\n",
        "      if not any(message.get(\"role\", None) == \"assistant\" for message in messages):\n",
        "          format_errors[\"example_missing_assistant_message\"][idx] += 1\n",
        "\n",
        "  # Print errors with indices\n",
        "  if format_errors:\n",
        "      print(\"Found errors:\")\n",
        "      for error_type, errors in format_errors.items():\n",
        "          for index, count in errors.items():\n",
        "              print(f\"Error type '{error_type}' at index {index}: {count} occurrences\")\n",
        "  else:\n",
        "      print(\"No errors found\")\n",
        "\n",
        "error_checker(dataset)"
      ],
      "metadata": {
        "colab": {
          "base_uri": "https://localhost:8080/"
        },
        "id": "FLLJkicv51gr",
        "outputId": "bfb04a5f-417a-4a68-8f43-797b5bbe95df"
      },
      "execution_count": 33,
      "outputs": [
        {
          "output_type": "stream",
          "name": "stdout",
          "text": [
            "Found errors:\n",
            "Error type 'missing_content' at index 6419: 1 occurrences\n"
          ]
        }
      ]
    },
    {
      "cell_type": "code",
      "source": [
        "for message in dataset[6419]['messages']:\n",
        "  print(message)"
      ],
      "metadata": {
        "colab": {
          "base_uri": "https://localhost:8080/"
        },
        "id": "-8sGeTcM51iy",
        "outputId": "e5c4fc8b-a132-4f67-9bef-59813b52d540"
      },
      "execution_count": 34,
      "outputs": [
        {
          "output_type": "stream",
          "name": "stdout",
          "text": [
            "{'role': 'system', 'content': 'You are a chatbot designed to explain medical terms, please answer the patients questions like a doctor.'}\n",
            "{'role': 'user', 'content': 'Involvement'}\n",
            "{'role': 'assistant', 'content': ''}\n"
          ]
        }
      ]
    },
    {
      "cell_type": "code",
      "source": [
        "del dataset[6419]"
      ],
      "metadata": {
        "id": "qMbdWRnv51nv"
      },
      "execution_count": 35,
      "outputs": []
    },
    {
      "cell_type": "code",
      "source": [
        "len(dataset)"
      ],
      "metadata": {
        "colab": {
          "base_uri": "https://localhost:8080/"
        },
        "id": "84w89ron51qK",
        "outputId": "9be8a3d7-7a2a-4cca-e833-6ed6a8ec0ca5"
      },
      "execution_count": 36,
      "outputs": [
        {
          "output_type": "execute_result",
          "data": {
            "text/plain": [
              "6860"
            ]
          },
          "metadata": {},
          "execution_count": 36
        }
      ]
    },
    {
      "cell_type": "code",
      "source": [
        "error_checker(dataset)"
      ],
      "metadata": {
        "colab": {
          "base_uri": "https://localhost:8080/"
        },
        "id": "04sYp5KFFhwa",
        "outputId": "4aadaac3-9b0f-46cc-c886-84138b09c62d"
      },
      "execution_count": 37,
      "outputs": [
        {
          "output_type": "stream",
          "name": "stdout",
          "text": [
            "No errors found\n"
          ]
        }
      ]
    },
    {
      "cell_type": "markdown",
      "source": [
        "# **Token Counter**"
      ],
      "metadata": {
        "id": "rxkTTV7iFtCk"
      }
    },
    {
      "cell_type": "code",
      "source": [
        "encoding = tiktoken.get_encoding(\"cl100k_base\")"
      ],
      "metadata": {
        "id": "o0M5-pHIFtNH"
      },
      "execution_count": 38,
      "outputs": []
    },
    {
      "cell_type": "code",
      "source": [
        "# helper functions to token counting\n",
        "def from_message_num_tokens(messages, tokens_per_message=3, tokens_per_name=1):\n",
        "  num_tokens = 0\n",
        "  for message in messages:\n",
        "    num_tokens += tokens_per_message\n",
        "    for key, value in message.items():\n",
        "      num_tokens += len(encoding.encode(value))\n",
        "      if key==\"name\":\n",
        "        num_tokens += tokens_per_name\n",
        "\n",
        "  num_tokens +=3\n",
        "  return num_tokens\n",
        "\n",
        "def from_message_num_assistant_tokens(messages):\n",
        "  num_tokens = 0\n",
        "  for message in messages:\n",
        "    if message[\"role\"] == \"assistant\":\n",
        "      num_tokens +=len(encoding.encode(message[\"content\"]))\n",
        "\n",
        "  return num_tokens\n",
        "\n",
        "def print_overview(values, name):\n",
        "  print(f\"\\n #### Distribution of {name}:\")\n",
        "  print(f\"min / max: {min(values)}, {max(values)}\")\n",
        "  print(f\"mean / median: {np.mean(values)}, {np.median(values)}\")\n",
        "  print(f\"p5 / p95: {np.quantile(values, 0.1)}, {np.quantile(values, 0.9)}\")"
      ],
      "metadata": {
        "id": "yEpKkpwW51vD"
      },
      "execution_count": 42,
      "outputs": []
    },
    {
      "cell_type": "code",
      "source": [
        "# tokens counts and warnings - from OpenAI cookbook\n",
        "\n",
        "def tokens_counts_warnings(dataset):\n",
        "  n_missing_system = 0\n",
        "  n_missing_user = 0\n",
        "  n_messages = []\n",
        "  convo_lens = []\n",
        "  assistant_message_lens = []\n",
        "\n",
        "  for ex in dataset:\n",
        "      messages = ex[\"messages\"]\n",
        "      if not any(message[\"role\"] == \"system\" for message in messages):\n",
        "          n_missing_system += 1\n",
        "      if not any(message[\"role\"] == \"user\" for message in messages):\n",
        "          n_missing_user += 1\n",
        "      n_messages.append(len(messages))\n",
        "      convo_lens.append(from_message_num_tokens(messages))\n",
        "      assistant_message_lens.append(from_message_num_assistant_tokens(messages))\n",
        "\n",
        "  print(\"Num examples missing system message:\", n_missing_system)\n",
        "  print(\"Num examples missing user message:\", n_missing_user)\n",
        "\n",
        "  print_overview(n_messages, \"num_messages_per_example\")\n",
        "  print_overview(convo_lens, \"num_total_tokens_per_example\")\n",
        "\n",
        "  print_overview(assistant_message_lens, \"num_assistant_tokens_per_example\")\n",
        "\n",
        "  n_too_long = sum(l > 4096 for l in convo_lens)\n",
        "  print(f\"\\n{n_too_long} examples may be over the 4096 token limit, they will be truncated during fine-tuning\")\n",
        "\n",
        "  return convo_lens"
      ],
      "metadata": {
        "id": "xW5MvK4k51xp"
      },
      "execution_count": 43,
      "outputs": []
    },
    {
      "cell_type": "code",
      "source": [
        "# Pricing and default n_epochs estimate\n",
        "\n",
        "def cost_checker(dataset):\n",
        "  MAX_TOKENS_PER_EXAMPLE = 4096\n",
        "\n",
        "  convo_lens = tokens_counts_warnings(dataset)\n",
        "\n",
        "  TARGET_EPOCHS = 3\n",
        "  MIN_TARGET_EXAMPLES = 100\n",
        "  MAX_TARGET_EXAMPLES = 25000\n",
        "  MIN_DEFAULT_EPOCHS = 1\n",
        "  MAX_DEFAULT_EPOCHS = 25\n",
        "\n",
        "  n_epochs = TARGET_EPOCHS\n",
        "  n_train_examples = len(dataset)\n",
        "  if n_train_examples * TARGET_EPOCHS < MIN_TARGET_EXAMPLES:\n",
        "      n_epochs = min(MAX_DEFAULT_EPOCHS, MIN_TARGET_EXAMPLES // n_train_examples)\n",
        "  elif n_train_examples * TARGET_EPOCHS > MAX_TARGET_EXAMPLES:\n",
        "      n_epochs = max(MIN_DEFAULT_EPOCHS, MAX_TARGET_EXAMPLES // n_train_examples)\n",
        "\n",
        "  n_billing_tokens_in_dataset = sum(min(MAX_TOKENS_PER_EXAMPLE, length) for length in convo_lens)\n",
        "  chargeable_tokens = n_epochs * n_billing_tokens_in_dataset\n",
        "  print(f\"Dataset has ~{n_billing_tokens_in_dataset} tokens that will be charged for during training\")\n",
        "  print(f\"By default, you'll train for {n_epochs} epochs on this dataset\")\n",
        "  print(f\"By default, you'll be charged for ~{chargeable_tokens} tokens\")\n",
        "  token_per_million = (chargeable_tokens/(1000000))\n",
        "  print(\"Total cost in USD:\",3 * token_per_million)"
      ],
      "metadata": {
        "id": "uSk9nsuF510N"
      },
      "execution_count": 46,
      "outputs": []
    },
    {
      "cell_type": "code",
      "source": [
        "cost_checker(dataset)# ie; needs 32 million tokens"
      ],
      "metadata": {
        "colab": {
          "base_uri": "https://localhost:8080/"
        },
        "id": "wH5p8z3b5120",
        "outputId": "1c50e6dc-f152-446d-96f5-bd2e9fa2b8bb"
      },
      "execution_count": 47,
      "outputs": [
        {
          "output_type": "stream",
          "name": "stdout",
          "text": [
            "Num examples missing system message: 0\n",
            "Num examples missing user message: 0\n",
            "\n",
            " #### Distribution of num_messages_per_example:\n",
            "min / max: 3, 3\n",
            "mean / median: 3.0, 3.0\n",
            "p5 / p95: 3.0, 3.0\n",
            "\n",
            " #### Distribution of num_total_tokens_per_example:\n",
            "min / max: 52, 35032\n",
            "mean / median: 1938.0801749271136, 1158.0\n",
            "p5 / p95: 200.9000000000001, 4583.900000000003\n",
            "\n",
            " #### Distribution of num_assistant_tokens_per_example:\n",
            "min / max: 15, 34993\n",
            "mean / median: 1897.9734693877551, 1119.0\n",
            "p5 / p95: 160.9000000000001, 4543.1\n",
            "\n",
            "815 examples may be over the 4096 token limit, they will be truncated during fine-tuning\n",
            "Dataset has ~10973237 tokens that will be charged for during training\n",
            "By default, you'll train for 3 epochs on this dataset\n",
            "By default, you'll be charged for ~32919711 tokens\n",
            "Total cost in USD: 98.75913299999999\n"
          ]
        }
      ]
    },
    {
      "cell_type": "markdown",
      "source": [
        "# **Reducing the data requirement**"
      ],
      "metadata": {
        "id": "cYPUp_-4Gu4w"
      }
    },
    {
      "cell_type": "code",
      "source": [
        "cost_checker(dataset[:1000])"
      ],
      "metadata": {
        "colab": {
          "base_uri": "https://localhost:8080/"
        },
        "id": "0veXd23V514_",
        "outputId": "0bd5ebd7-0bf4-4d37-f5bb-a762fc704c07"
      },
      "execution_count": 48,
      "outputs": [
        {
          "output_type": "stream",
          "name": "stdout",
          "text": [
            "Num examples missing system message: 0\n",
            "Num examples missing user message: 0\n",
            "\n",
            " #### Distribution of num_messages_per_example:\n",
            "min / max: 3, 3\n",
            "mean / median: 3.0, 3.0\n",
            "p5 / p95: 3.0, 3.0\n",
            "\n",
            " #### Distribution of num_total_tokens_per_example:\n",
            "min / max: 63, 35032\n",
            "mean / median: 2835.33, 2053.0\n",
            "p5 / p95: 396.70000000000005, 6199.200000000001\n",
            "\n",
            " #### Distribution of num_assistant_tokens_per_example:\n",
            "min / max: 22, 34993\n",
            "mean / median: 2795.529, 2012.0\n",
            "p5 / p95: 357.70000000000005, 6162.1\n",
            "\n",
            "206 examples may be over the 4096 token limit, they will be truncated during fine-tuning\n",
            "Dataset has ~2170509 tokens that will be charged for during training\n",
            "By default, you'll train for 3 epochs on this dataset\n",
            "By default, you'll be charged for ~6511527 tokens\n",
            "Total cost in USD: 19.534581\n"
          ]
        }
      ]
    },
    {
      "cell_type": "code",
      "source": [
        "cost_checker(dataset[:500])"
      ],
      "metadata": {
        "colab": {
          "base_uri": "https://localhost:8080/"
        },
        "id": "vz4GYNup517g",
        "outputId": "ed7a9b06-d937-4dfd-a930-53678f3817d4"
      },
      "execution_count": 49,
      "outputs": [
        {
          "output_type": "stream",
          "name": "stdout",
          "text": [
            "Num examples missing system message: 0\n",
            "Num examples missing user message: 0\n",
            "\n",
            " #### Distribution of num_messages_per_example:\n",
            "min / max: 3, 3\n",
            "mean / median: 3.0, 3.0\n",
            "p5 / p95: 3.0, 3.0\n",
            "\n",
            " #### Distribution of num_total_tokens_per_example:\n",
            "min / max: 86, 19366\n",
            "mean / median: 3217.604, 2457.0\n",
            "p5 / p95: 504.0, 6934.600000000001\n",
            "\n",
            " #### Distribution of num_assistant_tokens_per_example:\n",
            "min / max: 47, 19328\n",
            "mean / median: 3178.006, 2414.0\n",
            "p5 / p95: 464.9, 6896.500000000001\n",
            "\n",
            "130 examples may be over the 4096 token limit, they will be truncated during fine-tuning\n",
            "Dataset has ~1196684 tokens that will be charged for during training\n",
            "By default, you'll train for 3 epochs on this dataset\n",
            "By default, you'll be charged for ~3590052 tokens\n",
            "Total cost in USD: 10.770156\n"
          ]
        }
      ]
    },
    {
      "cell_type": "code",
      "source": [
        "cost_checker(dataset[:250])"
      ],
      "metadata": {
        "colab": {
          "base_uri": "https://localhost:8080/"
        },
        "id": "rhFOo4n85193",
        "outputId": "f3a996cd-cd43-42fc-b234-237bb69832e4"
      },
      "execution_count": 50,
      "outputs": [
        {
          "output_type": "stream",
          "name": "stdout",
          "text": [
            "Num examples missing system message: 0\n",
            "Num examples missing user message: 0\n",
            "\n",
            " #### Distribution of num_messages_per_example:\n",
            "min / max: 3, 3\n",
            "mean / median: 3.0, 3.0\n",
            "p5 / p95: 3.0, 3.0\n",
            "\n",
            " #### Distribution of num_total_tokens_per_example:\n",
            "min / max: 102, 19366\n",
            "mean / median: 3524.932, 2593.5\n",
            "p5 / p95: 566.5, 7241.999999999998\n",
            "\n",
            " #### Distribution of num_assistant_tokens_per_example:\n",
            "min / max: 60, 19328\n",
            "mean / median: 3485.328, 2555.0\n",
            "p5 / p95: 524.7, 7202.199999999999\n",
            "\n",
            "75 examples may be over the 4096 token limit, they will be truncated during fine-tuning\n",
            "Dataset has ~633318 tokens that will be charged for during training\n",
            "By default, you'll train for 3 epochs on this dataset\n",
            "By default, you'll be charged for ~1899954 tokens\n",
            "Total cost in USD: 5.6998619999999995\n"
          ]
        }
      ]
    },
    {
      "cell_type": "code",
      "source": [
        "cost_checker(dataset[:125])"
      ],
      "metadata": {
        "colab": {
          "base_uri": "https://localhost:8080/"
        },
        "id": "dUawUt6752AO",
        "outputId": "f98377aa-2b3f-4ff0-f2d9-656979422895"
      },
      "execution_count": 51,
      "outputs": [
        {
          "output_type": "stream",
          "name": "stdout",
          "text": [
            "Num examples missing system message: 0\n",
            "Num examples missing user message: 0\n",
            "\n",
            " #### Distribution of num_messages_per_example:\n",
            "min / max: 3, 3\n",
            "mean / median: 3.0, 3.0\n",
            "p5 / p95: 3.0, 3.0\n",
            "\n",
            " #### Distribution of num_total_tokens_per_example:\n",
            "min / max: 103, 19366\n",
            "mean / median: 3544.088, 2883.0\n",
            "p5 / p95: 512.0, 7126.0\n",
            "\n",
            " #### Distribution of num_assistant_tokens_per_example:\n",
            "min / max: 64, 19328\n",
            "mean / median: 3504.592, 2843.0\n",
            "p5 / p95: 475.0, 7084.0\n",
            "\n",
            "38 examples may be over the 4096 token limit, they will be truncated during fine-tuning\n",
            "Dataset has ~326365 tokens that will be charged for during training\n",
            "By default, you'll train for 3 epochs on this dataset\n",
            "By default, you'll be charged for ~979095 tokens\n",
            "Total cost in USD: 2.937285\n"
          ]
        }
      ]
    },
    {
      "cell_type": "code",
      "source": [
        "new_dataset = dataset[:125]"
      ],
      "metadata": {
        "id": "lGQgSiyD52C0"
      },
      "execution_count": 52,
      "outputs": []
    },
    {
      "cell_type": "markdown",
      "source": [
        "# **Saving the dataset**"
      ],
      "metadata": {
        "id": "PJWSZF_tJB58"
      }
    },
    {
      "cell_type": "code",
      "source": [
        "def save_to_jsonl(conversations, file_path):\n",
        "  with open(file_path, 'w') as file:\n",
        "    for conversation in conversations:\n",
        "      json_line = json.dumps(conversation)\n",
        "      file.write(json_line + '\\n')"
      ],
      "metadata": {
        "id": "8EUX1VvY52Fb"
      },
      "execution_count": 54,
      "outputs": []
    },
    {
      "cell_type": "code",
      "source": [
        "# train dataset\n",
        "\n",
        "save_to_jsonl(dataset[:100], '/content/wiki_medical_term_task_train.jsonl')\n",
        "\n",
        "# validation dataset\n",
        "\n",
        "save_to_jsonl(dataset[100:125], '/content/wiki_medical_term_task_validation.jsonl')"
      ],
      "metadata": {
        "id": "EONhYro252Iy"
      },
      "execution_count": 55,
      "outputs": []
    },
    {
      "cell_type": "code",
      "source": [
        "client = OpenAI(\n",
        "    api_key= openai.api_key,\n",
        ")"
      ],
      "metadata": {
        "id": "EQPg21JyJdWr"
      },
      "execution_count": 57,
      "outputs": []
    },
    {
      "cell_type": "code",
      "source": [
        "training_dataset_file_name = '/content/wiki_medical_term_task_train.jsonl'\n",
        "validation_dataset_file_name = '/content/wiki_medical_term_task_validation.jsonl'"
      ],
      "metadata": {
        "id": "irDPuKtnJdYm"
      },
      "execution_count": 58,
      "outputs": []
    },
    {
      "cell_type": "code",
      "source": [
        "training_response = client.files.create(\n",
        "    file=Path(training_dataset_file_name),\n",
        "    purpose=\"fine-tune\"\n",
        ")"
      ],
      "metadata": {
        "id": "U1sUR2I-Jdac"
      },
      "execution_count": 60,
      "outputs": []
    },
    {
      "cell_type": "code",
      "source": [
        "training_response"
      ],
      "metadata": {
        "colab": {
          "base_uri": "https://localhost:8080/"
        },
        "id": "yC7a5ABgJdcT",
        "outputId": "227643af-6d40-4c97-e3d9-264f75015f3b"
      },
      "execution_count": 61,
      "outputs": [
        {
          "output_type": "execute_result",
          "data": {
            "text/plain": [
              "FileObject(id='file-5c4JoGvxeo9lDJ3ryzyMyNsz', bytes=1839624, created_at=1724247452, filename='wiki_medical_term_task_train.jsonl', object='file', purpose='fine-tune', status='processed', status_details=None)"
            ]
          },
          "metadata": {},
          "execution_count": 61
        }
      ]
    },
    {
      "cell_type": "code",
      "source": [
        "training_file_id = training_response.id\n",
        "training_file_id"
      ],
      "metadata": {
        "colab": {
          "base_uri": "https://localhost:8080/",
          "height": 35
        },
        "id": "poBVadOWJdfF",
        "outputId": "ffc43761-6f4a-4ae3-d79f-05a32cce8aac"
      },
      "execution_count": 62,
      "outputs": [
        {
          "output_type": "execute_result",
          "data": {
            "text/plain": [
              "'file-5c4JoGvxeo9lDJ3ryzyMyNsz'"
            ],
            "application/vnd.google.colaboratory.intrinsic+json": {
              "type": "string"
            }
          },
          "metadata": {},
          "execution_count": 62
        }
      ]
    },
    {
      "cell_type": "code",
      "source": [
        "validation_response = client.files.create(\n",
        "    file=Path(validation_dataset_file_name),\n",
        "    purpose=\"fine-tune\"\n",
        ")"
      ],
      "metadata": {
        "id": "IVBlrLqFKHtL"
      },
      "execution_count": 63,
      "outputs": []
    },
    {
      "cell_type": "code",
      "source": [
        "validation_response"
      ],
      "metadata": {
        "colab": {
          "base_uri": "https://localhost:8080/"
        },
        "id": "soNQwyxxKKFx",
        "outputId": "d42f9b40-886b-4d69-aea2-c0bbd50e1322"
      },
      "execution_count": 64,
      "outputs": [
        {
          "output_type": "execute_result",
          "data": {
            "text/plain": [
              "FileObject(id='file-TC6MuUUKm4zZVfvMhgMA8dbq', bytes=292850, created_at=1724247482, filename='wiki_medical_term_task_validation.jsonl', object='file', purpose='fine-tune', status='processed', status_details=None)"
            ]
          },
          "metadata": {},
          "execution_count": 64
        }
      ]
    },
    {
      "cell_type": "code",
      "source": [
        "validation_file_id = validation_response.id\n",
        "validation_file_id"
      ],
      "metadata": {
        "colab": {
          "base_uri": "https://localhost:8080/",
          "height": 35
        },
        "id": "NRyuYWuhKKH2",
        "outputId": "79645dae-7dd8-4c0c-d8f4-55a8038059c1"
      },
      "execution_count": 65,
      "outputs": [
        {
          "output_type": "execute_result",
          "data": {
            "text/plain": [
              "'file-TC6MuUUKm4zZVfvMhgMA8dbq'"
            ],
            "application/vnd.google.colaboratory.intrinsic+json": {
              "type": "string"
            }
          },
          "metadata": {},
          "execution_count": 65
        }
      ]
    },
    {
      "cell_type": "markdown",
      "source": [
        "# **Starting fine-tuning**"
      ],
      "metadata": {
        "id": "O_F7JSXaKQwd"
      }
    },
    {
      "cell_type": "code",
      "source": [
        "response = client.fine_tuning.jobs.create(\n",
        "    model = \"gpt-3.5-turbo\",\n",
        "    training_file = training_file_id,\n",
        "    validation_file = validation_file_id,\n",
        "    suffix=\"wiki-medical-terms\"\n",
        ")"
      ],
      "metadata": {
        "id": "kHnnk46bKKKO"
      },
      "execution_count": 67,
      "outputs": []
    },
    {
      "cell_type": "code",
      "source": [
        "response"
      ],
      "metadata": {
        "colab": {
          "base_uri": "https://localhost:8080/"
        },
        "id": "iVntS9ptKKL1",
        "outputId": "9ddcb3dc-b00d-40b2-ce47-8bb4b5f3ac52"
      },
      "execution_count": 68,
      "outputs": [
        {
          "output_type": "execute_result",
          "data": {
            "text/plain": [
              "FineTuningJob(id='ftjob-pp0YXxTT9l9yTK55VrIUL4aD', created_at=1724247641, error=Error(code=None, message=None, param=None), fine_tuned_model=None, finished_at=None, hyperparameters=Hyperparameters(n_epochs='auto', batch_size='auto', learning_rate_multiplier='auto'), model='gpt-3.5-turbo-0125', object='fine_tuning.job', organization_id='org-OAr1jvg8os1Ah0dcvn3JHKaZ', result_files=[], seed=2097429054, status='validating_files', trained_tokens=None, training_file='file-5c4JoGvxeo9lDJ3ryzyMyNsz', validation_file='file-TC6MuUUKm4zZVfvMhgMA8dbq', estimated_finish=None, integrations=[], user_provided_suffix='wiki-medical-terms')"
            ]
          },
          "metadata": {},
          "execution_count": 68
        }
      ]
    },
    {
      "cell_type": "code",
      "source": [
        "job_id = response.id\n",
        "job_id"
      ],
      "metadata": {
        "colab": {
          "base_uri": "https://localhost:8080/",
          "height": 35
        },
        "id": "GEkQBHGgKKPJ",
        "outputId": "9cc6d0bf-bc39-48ef-c535-37fe72f48aa9"
      },
      "execution_count": 69,
      "outputs": [
        {
          "output_type": "execute_result",
          "data": {
            "text/plain": [
              "'ftjob-pp0YXxTT9l9yTK55VrIUL4aD'"
            ],
            "application/vnd.google.colaboratory.intrinsic+json": {
              "type": "string"
            }
          },
          "metadata": {},
          "execution_count": 69
        }
      ]
    },
    {
      "cell_type": "code",
      "source": [
        "client.fine_tuning.jobs.list()"
      ],
      "metadata": {
        "colab": {
          "base_uri": "https://localhost:8080/"
        },
        "id": "MZQw79QiKKRU",
        "outputId": "c0619c71-07f1-4600-f4ea-46132a965084"
      },
      "execution_count": 70,
      "outputs": [
        {
          "output_type": "execute_result",
          "data": {
            "text/plain": [
              "SyncCursorPage[FineTuningJob](data=[FineTuningJob(id='ftjob-pp0YXxTT9l9yTK55VrIUL4aD', created_at=1724247641, error=Error(code=None, message=None, param=None), fine_tuned_model=None, finished_at=None, hyperparameters=Hyperparameters(n_epochs=3, batch_size=1, learning_rate_multiplier=2), model='gpt-3.5-turbo-0125', object='fine_tuning.job', organization_id='org-OAr1jvg8os1Ah0dcvn3JHKaZ', result_files=[], seed=2097429054, status='queued', trained_tokens=None, training_file='file-5c4JoGvxeo9lDJ3ryzyMyNsz', validation_file='file-TC6MuUUKm4zZVfvMhgMA8dbq', estimated_finish=None, integrations=[], user_provided_suffix='wiki-medical-terms'), FineTuningJob(id='ftjob-gleohJsNy3CHvZBj87z1UP91', created_at=1724247572, error=Error(code=None, message=None, param=None), fine_tuned_model=None, finished_at=None, hyperparameters=Hyperparameters(n_epochs=3, batch_size=1, learning_rate_multiplier=2), model='gpt-3.5-turbo-0125', object='fine_tuning.job', organization_id='org-OAr1jvg8os1Ah0dcvn3JHKaZ', result_files=[], seed=1244292938, status='cancelled', trained_tokens=None, training_file='file-5c4JoGvxeo9lDJ3ryzyMyNsz', validation_file='file-TC6MuUUKm4zZVfvMhgMA8dbq', estimated_finish=None, integrations=[], user_provided_suffix='samantha-test')], object='list', has_more=False)"
            ]
          },
          "metadata": {},
          "execution_count": 70
        }
      ]
    },
    {
      "cell_type": "code",
      "source": [
        "client.fine_tuning.jobs.retrieve('ftjob-pp0YXxTT9l9yTK55VrIUL4aD')"
      ],
      "metadata": {
        "colab": {
          "base_uri": "https://localhost:8080/"
        },
        "id": "kQQj1oDiKKUc",
        "outputId": "afdf6309-a444-4d0f-959f-5197aa1b692b"
      },
      "execution_count": 71,
      "outputs": [
        {
          "output_type": "execute_result",
          "data": {
            "text/plain": [
              "FineTuningJob(id='ftjob-pp0YXxTT9l9yTK55VrIUL4aD', created_at=1724247641, error=Error(code=None, message=None, param=None), fine_tuned_model=None, finished_at=None, hyperparameters=Hyperparameters(n_epochs=3, batch_size=1, learning_rate_multiplier=2), model='gpt-3.5-turbo-0125', object='fine_tuning.job', organization_id='org-OAr1jvg8os1Ah0dcvn3JHKaZ', result_files=[], seed=2097429054, status='running', trained_tokens=None, training_file='file-5c4JoGvxeo9lDJ3ryzyMyNsz', validation_file='file-TC6MuUUKm4zZVfvMhgMA8dbq', estimated_finish=None, integrations=[], user_provided_suffix='wiki-medical-terms')"
            ]
          },
          "metadata": {},
          "execution_count": 71
        }
      ]
    },
    {
      "cell_type": "code",
      "source": [
        "job_response = client.fine_tuning.jobs.list_events(fine_tuning_job_id='ftjob-pp0YXxTT9l9yTK55VrIUL4aD')"
      ],
      "metadata": {
        "id": "OqrvypNrK0NF"
      },
      "execution_count": 80,
      "outputs": []
    },
    {
      "cell_type": "code",
      "source": [
        "job_response"
      ],
      "metadata": {
        "colab": {
          "base_uri": "https://localhost:8080/"
        },
        "id": "4MObj8iMK0VV",
        "outputId": "2c5d7237-7ceb-402e-9626-0e45c77aca1c"
      },
      "execution_count": 81,
      "outputs": [
        {
          "output_type": "execute_result",
          "data": {
            "text/plain": [
              "SyncCursorPage[FineTuningJobEvent](data=[FineTuningJobEvent(id='ftevent-xPSCbwOD8LWeo2hc11GNZ0RJ', created_at=1724248839, level='info', message='Step 256/300: training loss=1.02', object='fine_tuning.job.event', data={'step': 256, 'train_loss': 1.0174081325531006, 'total_steps': 300, 'train_mean_token_accuracy': 0.7306666374206543}, type='metrics'), FineTuningJobEvent(id='ftevent-ntfKYR3zNUyrisFeqSvnwMjK', created_at=1724248834, level='info', message='Step 255/300: training loss=0.64', object='fine_tuning.job.event', data={'step': 255, 'train_loss': 0.6383346319198608, 'total_steps': 300, 'train_mean_token_accuracy': 0.8427051901817322}, type='metrics'), FineTuningJobEvent(id='ftevent-evaWUYjZDLWbNDFveZ0u5Ru3', created_at=1724248832, level='info', message='Step 254/300: training loss=0.84', object='fine_tuning.job.event', data={'step': 254, 'train_loss': 0.8424683809280396, 'total_steps': 300, 'train_mean_token_accuracy': 0.7723120450973511}, type='metrics'), FineTuningJobEvent(id='ftevent-uZ6ApAUWkqiOnzzKiR3YbGsA', created_at=1724248828, level='info', message='Step 253/300: training loss=1.30', object='fine_tuning.job.event', data={'step': 253, 'train_loss': 1.2981493473052979, 'total_steps': 300, 'train_mean_token_accuracy': 0.6625320911407471}, type='metrics'), FineTuningJobEvent(id='ftevent-1nCssK853I4OmNB8y7Bo1O9z', created_at=1724248825, level='info', message='Step 252/300: training loss=0.20', object='fine_tuning.job.event', data={'step': 252, 'train_loss': 0.20349469780921936, 'total_steps': 300, 'train_mean_token_accuracy': 0.9541894793510437}, type='metrics'), FineTuningJobEvent(id='ftevent-hxU4te0hc3zwcZUvDTLIeSEl', created_at=1724248821, level='info', message='Step 251/300: training loss=0.25', object='fine_tuning.job.event', data={'step': 251, 'train_loss': 0.2540859878063202, 'total_steps': 300, 'train_mean_token_accuracy': 0.9462398886680603}, type='metrics'), FineTuningJobEvent(id='ftevent-9lJb4C9pfs0NDShK1csLIMY0', created_at=1724248818, level='info', message='Step 250/300: training loss=1.38, validation loss=1.07', object='fine_tuning.job.event', data={'step': 250, 'train_loss': 1.3824406862258911, 'valid_loss': 1.0743592702950189, 'total_steps': 300, 'train_mean_token_accuracy': 0.6622065901756287, 'valid_mean_token_accuracy': 0.7607296137339056}, type='metrics'), FineTuningJobEvent(id='ftevent-HxIkLRzeJ7LPWBGbYWHZ2Y7l', created_at=1724248813, level='info', message='Step 249/300: training loss=0.91', object='fine_tuning.job.event', data={'step': 249, 'train_loss': 0.9050217270851135, 'total_steps': 300, 'train_mean_token_accuracy': 0.7824537754058838}, type='metrics'), FineTuningJobEvent(id='ftevent-aPIKdg9Qape60NHrAMzDy4cy', created_at=1724248809, level='info', message='Step 248/300: training loss=0.87', object='fine_tuning.job.event', data={'step': 248, 'train_loss': 0.8688116669654846, 'total_steps': 300, 'train_mean_token_accuracy': 0.7845671772956848}, type='metrics'), FineTuningJobEvent(id='ftevent-h4YDllDnVtHs7KNxZJpQSyyH', created_at=1724248804, level='info', message='Step 247/300: training loss=1.65', object='fine_tuning.job.event', data={'step': 247, 'train_loss': 1.650518536567688, 'total_steps': 300, 'train_mean_token_accuracy': 0.6015219688415527}, type='metrics'), FineTuningJobEvent(id='ftevent-A4hkIQzXqUGkdpP00H3mtykv', created_at=1724248802, level='info', message='Step 246/300: training loss=0.65', object='fine_tuning.job.event', data={'step': 246, 'train_loss': 0.6530641913414001, 'total_steps': 300, 'train_mean_token_accuracy': 0.8362461924552917}, type='metrics'), FineTuningJobEvent(id='ftevent-4dT2WeMOOQiMU56yHxdzChkK', created_at=1724248797, level='info', message='Step 245/300: training loss=0.75', object='fine_tuning.job.event', data={'step': 245, 'train_loss': 0.7488067746162415, 'total_steps': 300, 'train_mean_token_accuracy': 0.8193819522857666}, type='metrics'), FineTuningJobEvent(id='ftevent-LDQRq3YbBd9QuZRFwa5UyZfr', created_at=1724248793, level='info', message='Step 244/300: training loss=1.35', object='fine_tuning.job.event', data={'step': 244, 'train_loss': 1.3549418449401855, 'total_steps': 300, 'train_mean_token_accuracy': 0.6694891452789307}, type='metrics'), FineTuningJobEvent(id='ftevent-yZMsfPxDRVfcZxLdZTyOU4x5', created_at=1724248791, level='info', message='Step 243/300: training loss=1.36', object='fine_tuning.job.event', data={'step': 243, 'train_loss': 1.364742636680603, 'total_steps': 300, 'train_mean_token_accuracy': 0.6805124282836914}, type='metrics'), FineTuningJobEvent(id='ftevent-q2oRJ1eBNYWdvbF1g7hLrNLm', created_at=1724248786, level='info', message='Step 242/300: training loss=1.21', object='fine_tuning.job.event', data={'step': 242, 'train_loss': 1.2079594135284424, 'total_steps': 300, 'train_mean_token_accuracy': 0.6620689630508423}, type='metrics'), FineTuningJobEvent(id='ftevent-UNHWLCqqr2IpxAouV2CtmRxB', created_at=1724248783, level='info', message='Step 241/300: training loss=0.71', object='fine_tuning.job.event', data={'step': 241, 'train_loss': 0.7141556143760681, 'total_steps': 300, 'train_mean_token_accuracy': 0.8392249941825867}, type='metrics'), FineTuningJobEvent(id='ftevent-CNjUTpYk2VQwGu0MDDdGEBfu', created_at=1724248779, level='info', message='Step 240/300: training loss=0.51, validation loss=0.70', object='fine_tuning.job.event', data={'step': 240, 'train_loss': 0.5052221417427063, 'valid_loss': 0.7034938046426484, 'total_steps': 300, 'train_mean_token_accuracy': 0.8782051205635071, 'valid_mean_token_accuracy': 0.8181818181818182}, type='metrics'), FineTuningJobEvent(id='ftevent-AZXL1fpx1nmQTGnPa42lhHhJ', created_at=1724248776, level='info', message='Step 239/300: training loss=1.00', object='fine_tuning.job.event', data={'step': 239, 'train_loss': 0.9968505501747131, 'total_steps': 300, 'train_mean_token_accuracy': 0.7491179704666138}, type='metrics'), FineTuningJobEvent(id='ftevent-sVOu8WoA3r1yS7A9Y5Um2Q5F', created_at=1724248772, level='info', message='Step 238/300: training loss=1.12', object='fine_tuning.job.event', data={'step': 238, 'train_loss': 1.1167072057724, 'total_steps': 300, 'train_mean_token_accuracy': 0.7328646779060364}, type='metrics'), FineTuningJobEvent(id='ftevent-gSzmDAcGwEVMc9OPse7EpI3x', created_at=1724248767, level='info', message='Step 237/300: training loss=0.94', object='fine_tuning.job.event', data={'step': 237, 'train_loss': 0.9449700117111206, 'total_steps': 300, 'train_mean_token_accuracy': 0.766780436038971}, type='metrics')], object='list', has_more=True)"
            ]
          },
          "metadata": {},
          "execution_count": 81
        }
      ]
    },
    {
      "cell_type": "code",
      "source": [
        "events = job_response.data\n",
        "events"
      ],
      "metadata": {
        "colab": {
          "base_uri": "https://localhost:8080/"
        },
        "id": "6415Znk0K0YM",
        "outputId": "b4668206-0a87-44be-d12d-d5ef0bcb8ab8"
      },
      "execution_count": 82,
      "outputs": [
        {
          "output_type": "execute_result",
          "data": {
            "text/plain": [
              "[FineTuningJobEvent(id='ftevent-xPSCbwOD8LWeo2hc11GNZ0RJ', created_at=1724248839, level='info', message='Step 256/300: training loss=1.02', object='fine_tuning.job.event', data={'step': 256, 'train_loss': 1.0174081325531006, 'total_steps': 300, 'train_mean_token_accuracy': 0.7306666374206543}, type='metrics'),\n",
              " FineTuningJobEvent(id='ftevent-ntfKYR3zNUyrisFeqSvnwMjK', created_at=1724248834, level='info', message='Step 255/300: training loss=0.64', object='fine_tuning.job.event', data={'step': 255, 'train_loss': 0.6383346319198608, 'total_steps': 300, 'train_mean_token_accuracy': 0.8427051901817322}, type='metrics'),\n",
              " FineTuningJobEvent(id='ftevent-evaWUYjZDLWbNDFveZ0u5Ru3', created_at=1724248832, level='info', message='Step 254/300: training loss=0.84', object='fine_tuning.job.event', data={'step': 254, 'train_loss': 0.8424683809280396, 'total_steps': 300, 'train_mean_token_accuracy': 0.7723120450973511}, type='metrics'),\n",
              " FineTuningJobEvent(id='ftevent-uZ6ApAUWkqiOnzzKiR3YbGsA', created_at=1724248828, level='info', message='Step 253/300: training loss=1.30', object='fine_tuning.job.event', data={'step': 253, 'train_loss': 1.2981493473052979, 'total_steps': 300, 'train_mean_token_accuracy': 0.6625320911407471}, type='metrics'),\n",
              " FineTuningJobEvent(id='ftevent-1nCssK853I4OmNB8y7Bo1O9z', created_at=1724248825, level='info', message='Step 252/300: training loss=0.20', object='fine_tuning.job.event', data={'step': 252, 'train_loss': 0.20349469780921936, 'total_steps': 300, 'train_mean_token_accuracy': 0.9541894793510437}, type='metrics'),\n",
              " FineTuningJobEvent(id='ftevent-hxU4te0hc3zwcZUvDTLIeSEl', created_at=1724248821, level='info', message='Step 251/300: training loss=0.25', object='fine_tuning.job.event', data={'step': 251, 'train_loss': 0.2540859878063202, 'total_steps': 300, 'train_mean_token_accuracy': 0.9462398886680603}, type='metrics'),\n",
              " FineTuningJobEvent(id='ftevent-9lJb4C9pfs0NDShK1csLIMY0', created_at=1724248818, level='info', message='Step 250/300: training loss=1.38, validation loss=1.07', object='fine_tuning.job.event', data={'step': 250, 'train_loss': 1.3824406862258911, 'valid_loss': 1.0743592702950189, 'total_steps': 300, 'train_mean_token_accuracy': 0.6622065901756287, 'valid_mean_token_accuracy': 0.7607296137339056}, type='metrics'),\n",
              " FineTuningJobEvent(id='ftevent-HxIkLRzeJ7LPWBGbYWHZ2Y7l', created_at=1724248813, level='info', message='Step 249/300: training loss=0.91', object='fine_tuning.job.event', data={'step': 249, 'train_loss': 0.9050217270851135, 'total_steps': 300, 'train_mean_token_accuracy': 0.7824537754058838}, type='metrics'),\n",
              " FineTuningJobEvent(id='ftevent-aPIKdg9Qape60NHrAMzDy4cy', created_at=1724248809, level='info', message='Step 248/300: training loss=0.87', object='fine_tuning.job.event', data={'step': 248, 'train_loss': 0.8688116669654846, 'total_steps': 300, 'train_mean_token_accuracy': 0.7845671772956848}, type='metrics'),\n",
              " FineTuningJobEvent(id='ftevent-h4YDllDnVtHs7KNxZJpQSyyH', created_at=1724248804, level='info', message='Step 247/300: training loss=1.65', object='fine_tuning.job.event', data={'step': 247, 'train_loss': 1.650518536567688, 'total_steps': 300, 'train_mean_token_accuracy': 0.6015219688415527}, type='metrics'),\n",
              " FineTuningJobEvent(id='ftevent-A4hkIQzXqUGkdpP00H3mtykv', created_at=1724248802, level='info', message='Step 246/300: training loss=0.65', object='fine_tuning.job.event', data={'step': 246, 'train_loss': 0.6530641913414001, 'total_steps': 300, 'train_mean_token_accuracy': 0.8362461924552917}, type='metrics'),\n",
              " FineTuningJobEvent(id='ftevent-4dT2WeMOOQiMU56yHxdzChkK', created_at=1724248797, level='info', message='Step 245/300: training loss=0.75', object='fine_tuning.job.event', data={'step': 245, 'train_loss': 0.7488067746162415, 'total_steps': 300, 'train_mean_token_accuracy': 0.8193819522857666}, type='metrics'),\n",
              " FineTuningJobEvent(id='ftevent-LDQRq3YbBd9QuZRFwa5UyZfr', created_at=1724248793, level='info', message='Step 244/300: training loss=1.35', object='fine_tuning.job.event', data={'step': 244, 'train_loss': 1.3549418449401855, 'total_steps': 300, 'train_mean_token_accuracy': 0.6694891452789307}, type='metrics'),\n",
              " FineTuningJobEvent(id='ftevent-yZMsfPxDRVfcZxLdZTyOU4x5', created_at=1724248791, level='info', message='Step 243/300: training loss=1.36', object='fine_tuning.job.event', data={'step': 243, 'train_loss': 1.364742636680603, 'total_steps': 300, 'train_mean_token_accuracy': 0.6805124282836914}, type='metrics'),\n",
              " FineTuningJobEvent(id='ftevent-q2oRJ1eBNYWdvbF1g7hLrNLm', created_at=1724248786, level='info', message='Step 242/300: training loss=1.21', object='fine_tuning.job.event', data={'step': 242, 'train_loss': 1.2079594135284424, 'total_steps': 300, 'train_mean_token_accuracy': 0.6620689630508423}, type='metrics'),\n",
              " FineTuningJobEvent(id='ftevent-UNHWLCqqr2IpxAouV2CtmRxB', created_at=1724248783, level='info', message='Step 241/300: training loss=0.71', object='fine_tuning.job.event', data={'step': 241, 'train_loss': 0.7141556143760681, 'total_steps': 300, 'train_mean_token_accuracy': 0.8392249941825867}, type='metrics'),\n",
              " FineTuningJobEvent(id='ftevent-CNjUTpYk2VQwGu0MDDdGEBfu', created_at=1724248779, level='info', message='Step 240/300: training loss=0.51, validation loss=0.70', object='fine_tuning.job.event', data={'step': 240, 'train_loss': 0.5052221417427063, 'valid_loss': 0.7034938046426484, 'total_steps': 300, 'train_mean_token_accuracy': 0.8782051205635071, 'valid_mean_token_accuracy': 0.8181818181818182}, type='metrics'),\n",
              " FineTuningJobEvent(id='ftevent-AZXL1fpx1nmQTGnPa42lhHhJ', created_at=1724248776, level='info', message='Step 239/300: training loss=1.00', object='fine_tuning.job.event', data={'step': 239, 'train_loss': 0.9968505501747131, 'total_steps': 300, 'train_mean_token_accuracy': 0.7491179704666138}, type='metrics'),\n",
              " FineTuningJobEvent(id='ftevent-sVOu8WoA3r1yS7A9Y5Um2Q5F', created_at=1724248772, level='info', message='Step 238/300: training loss=1.12', object='fine_tuning.job.event', data={'step': 238, 'train_loss': 1.1167072057724, 'total_steps': 300, 'train_mean_token_accuracy': 0.7328646779060364}, type='metrics'),\n",
              " FineTuningJobEvent(id='ftevent-gSzmDAcGwEVMc9OPse7EpI3x', created_at=1724248767, level='info', message='Step 237/300: training loss=0.94', object='fine_tuning.job.event', data={'step': 237, 'train_loss': 0.9449700117111206, 'total_steps': 300, 'train_mean_token_accuracy': 0.766780436038971}, type='metrics')]"
            ]
          },
          "metadata": {},
          "execution_count": 82
        }
      ]
    },
    {
      "cell_type": "code",
      "source": [
        "for event in events:\n",
        "  print(event.message)"
      ],
      "metadata": {
        "colab": {
          "base_uri": "https://localhost:8080/"
        },
        "id": "R3dnQ2RmK0bC",
        "outputId": "a99b6cc6-a524-4b8d-d20a-3975ebc4b471"
      },
      "execution_count": 83,
      "outputs": [
        {
          "output_type": "stream",
          "name": "stdout",
          "text": [
            "Step 256/300: training loss=1.02\n",
            "Step 255/300: training loss=0.64\n",
            "Step 254/300: training loss=0.84\n",
            "Step 253/300: training loss=1.30\n",
            "Step 252/300: training loss=0.20\n",
            "Step 251/300: training loss=0.25\n",
            "Step 250/300: training loss=1.38, validation loss=1.07\n",
            "Step 249/300: training loss=0.91\n",
            "Step 248/300: training loss=0.87\n",
            "Step 247/300: training loss=1.65\n",
            "Step 246/300: training loss=0.65\n",
            "Step 245/300: training loss=0.75\n",
            "Step 244/300: training loss=1.35\n",
            "Step 243/300: training loss=1.36\n",
            "Step 242/300: training loss=1.21\n",
            "Step 241/300: training loss=0.71\n",
            "Step 240/300: training loss=0.51, validation loss=0.70\n",
            "Step 239/300: training loss=1.00\n",
            "Step 238/300: training loss=1.12\n",
            "Step 237/300: training loss=0.94\n"
          ]
        }
      ]
    },
    {
      "cell_type": "markdown",
      "source": [
        "# **Testing the new model**"
      ],
      "metadata": {
        "id": "F-CEklQkLDDq"
      }
    },
    {
      "cell_type": "code",
      "source": [
        "response = client.fine_tuning.jobs.retrieve(job_id)\n",
        "response"
      ],
      "metadata": {
        "colab": {
          "base_uri": "https://localhost:8080/"
        },
        "id": "VWQ6E10IK_V4",
        "outputId": "931e1277-9573-44db-b7be-98c483a42508"
      },
      "execution_count": 84,
      "outputs": [
        {
          "output_type": "execute_result",
          "data": {
            "text/plain": [
              "FineTuningJob(id='ftjob-pp0YXxTT9l9yTK55VrIUL4aD', created_at=1724247641, error=Error(code=None, message=None, param=None), fine_tuned_model='ft:gpt-3.5-turbo-0125:personal:wiki-medical-terms:9ygDyXer', finished_at=1724249016, hyperparameters=Hyperparameters(n_epochs=3, batch_size=1, learning_rate_multiplier=2), model='gpt-3.5-turbo-0125', object='fine_tuning.job', organization_id='org-OAr1jvg8os1Ah0dcvn3JHKaZ', result_files=['file-9Pm5wud0q0waQFnXKGMGCmab'], seed=2097429054, status='succeeded', trained_tokens=1125156, training_file='file-5c4JoGvxeo9lDJ3ryzyMyNsz', validation_file='file-TC6MuUUKm4zZVfvMhgMA8dbq', estimated_finish=None, integrations=[], user_provided_suffix='wiki-medical-terms')"
            ]
          },
          "metadata": {},
          "execution_count": 84
        }
      ]
    },
    {
      "cell_type": "code",
      "source": [
        "fine_tune_model_id = response.fine_tuned_model\n",
        "fine_tune_model_id"
      ],
      "metadata": {
        "colab": {
          "base_uri": "https://localhost:8080/",
          "height": 35
        },
        "id": "qa7Xbuj_K_YF",
        "outputId": "fff38d43-4cf0-4021-e97d-51ae162746a8"
      },
      "execution_count": 85,
      "outputs": [
        {
          "output_type": "execute_result",
          "data": {
            "text/plain": [
              "'ft:gpt-3.5-turbo-0125:personal:wiki-medical-terms:9ygDyXer'"
            ],
            "application/vnd.google.colaboratory.intrinsic+json": {
              "type": "string"
            }
          },
          "metadata": {},
          "execution_count": 85
        }
      ]
    },
    {
      "cell_type": "code",
      "source": [
        "test_messages = []\n",
        "test_messages.append({\"role\": \"system\", \"content\": system_message})\n",
        "test_message = \"Hey what is Amblyopia?\"\n",
        "\n",
        "test_messages.append({\"role\": \"user\", \"content\": test_message})\n",
        "\n",
        "print(test_messages)"
      ],
      "metadata": {
        "colab": {
          "base_uri": "https://localhost:8080/"
        },
        "id": "JeVbWhbkK_aM",
        "outputId": "a13b7239-17eb-4661-df61-1474c278cfd7"
      },
      "execution_count": 86,
      "outputs": [
        {
          "output_type": "stream",
          "name": "stdout",
          "text": [
            "[{'role': 'system', 'content': 'You are a chatbot designed to explain medical terms, please answer the patients questions like a doctor.'}, {'role': 'user', 'content': 'Hey what is Amblyopia?'}]\n"
          ]
        }
      ]
    },
    {
      "cell_type": "code",
      "source": [
        "response = client.chat.completions.create(\n",
        "    model = fine_tune_model_id,\n",
        "    messages = test_messages\n",
        ")\n",
        "\n",
        "print(response.choices[0].message.content)"
      ],
      "metadata": {
        "colab": {
          "base_uri": "https://localhost:8080/"
        },
        "id": "z4tgqCnVK_bh",
        "outputId": "8ce5624c-5521-4770-f0c6-2b89666cb662"
      },
      "execution_count": 87,
      "outputs": [
        {
          "output_type": "stream",
          "name": "stdout",
          "text": [
            "Amblyopia, often called lazy eye, is a condition that is caused by poor development of the visual system. It usually begins in infancy or childhood and it may get worse over time. The disorder is characterized by blurry vision in the affected eye as well as a difference in the clarity and sharpness of the image observed by each eye. With normal binocular vision, the brain is able to combine these two images into a single image. This ability to merge visual impressions received by both eyes is called fusion. But in children affected with amblyopia, the brain may learn to ignore or suppress the image from the affected eye. This can result in a loss of vision acuity in that eye and—a rare complication—a loss of depth perception. Amblyopia is the most common cause of decreased single-eye vision and the most common form of visual impairment in children.Neurological adaptations to the visual areas of the brain have also been detected in adults who wear strong correction lenses for refractive errors. These results showed that adaptation occurred in the visual cortex outside of conscious awareness, a form of neural adaptation not well understood. Amblyopia is the most easily treated form of infantile esotropia.\n",
            "\n",
            "Signs and symptoms\n",
            "Because amblyopia typically occurs in only one eye, many parents and children are unaware of the condition.  Although it is the most common cause of  decreased vision in a single eye, usually the first indication of the condition is more subtle, a lower depth perception with the amblyopic eye.\n",
            "\n",
            "The eye that develops normal vision is described as the \"fellow\" or, in more relevant, full, technical terms, the \"better seeing eye\"; the other eye is described as the \"amblyopic eye\" or, in full \"the eye with individual and specific abnormal condition\" as block or uncorrected, star or strabismic or strabismus, anisometropic, keratoconic eyes and pseudoesotropia. About one of 100 children, however, fails to develop normal vision in each eye due to this or a combination of anisometropia, (significant different refraction, glasses prescription, or both between right and left eye), strabismus, bilateral obstructed by congenital cataract, fundus (eye ball) appearance abnormal (e. g. idiopathic Yellow-white placoid lesion of Temtamy). Statistically, there is about a 30% chance of that individual finding themselves in similar conditions again in their own children's generation.\n",
            "\n",
            "Causes\n",
            "Various disorders of ocular development can lead to the clinical picture that is referred to as amblyopia and a number of different causal mechanisms. To describe it simply, the brain \"chooses\" to see either a blurred image from the better eye or the image of the eye that is misaligned or otherwise disrupted. In other words, the brain \"turns off\" the image from the amblyopic eye. When this happens, the eye with the reduced vision is called the \"amblyopic\" eye.When refractive (lens prescription) error occurs in two eyes, and is left untreated, it can lead to strabismic amblyopia. Refractive amblyopia is caused by uncorrected or undetected significant bilateral refractive error (e.g., high hyperopia, high myopia, or high astigmatism).  It is quite possible to have significant amblyopia while having 20/20 vision, and, in general, the condition can be significantly obfuscated by the eye even with normal vision (given a weak enough prescription lens).[citation needed] For instance, anisometropic amblyopia usually leads to a difference in acuity between the two eyes (even when corrected with glasses or contact lenses), with the amblyopic eye (almost always being in some degree of farsighted) having significantly reduced acuity and contrast sensitivity, as well as poor depth perception due to the suppression of the blurry image coming via an anatomically out-of-focus crystalline lens.Combined-mechanism amblyopia is exclusively applied to visually impaired who have a condition of strabismus. That is, it appears as a minification amblyopic effect on vision, but the treated subject wears the full refraction correction, and would have high visual acuity with accommodation, due to refractive error. The visual system cannot interpret the uncured strabismic condition, and favours the dominant eye with suppression and lack of development of essential binocularity. This is a term for a combination of strabismic and refractive (anisometropic) amblyopia. Strabismic amblyopia results from lack of use of the turned or crossed eye. If it is left untreated, strabismic amblyopia can cause serious visual problems and loss of binocularity. The strabismic amblyopic mechanism is micro-strabismus despite orthodox clinical examination reporting orthophoria. Clinical techniques of the West have been shown to miss a high percentage of full binocular condition possibilities. Micro-strabismus is any manifest or unmanifest (by Hirschberg or Krimsky test) corneal, limbal, or fixation-axis anomaly that places a retinal element out of fusion with a similar retinal element.Any of these conditions before the sixth birthday can interfere with the normal development of \"3-dimensional\" or stereopsis, with an acceptor of suppression to one eye with relating depth of field image anomaly as a consequence. Treatment of amblyopia may be pharmacological to penalise the better-seeing eye and thereby promote the use of the amblyopic eye and further development of stereopsis. Pharmacological treatment can be a reduction of image clarity in the better-seeing eye or pharmacological penalization.The mechanism of ametropic amblyopia is the length of the eye itself. When the eye is longer, one is nearsighted (image in front of retina); when it is shorter, farsighted (image behind retina). All humans are mildly farsighted to a degree, with a median of zero — perfect focus. This enables the asymmetric competitiveness that normally allows a generalization with the inherited color, interest, early movement and late spatial aspects, enabling the full science theory of `brightness constancy`. In bilateral high-minus prescription case, the lens in each eye cannot get the incoming light to focus at one point on the retina; the focal point falls in front of it. At a certain point, the `sphere` or spherocylindrical lens, by identical refraction power of optical center (in line) and periphery of lens, has a lower-to-zero power of carrying the light rays along to focus (prism) at prescribed chemical target (retinal plane). This phenomenon of light is called `asthenopic vision`.[clarification needed] Since the universe of that person can be a clear `circle` only at very close quarters, they experience very poor vision early in life. Hence, such people choose full AC/A to focus at close anti-extortion (unun-excessive action) opportunity, to earn their living; objectivity by village subtension opportunity is ill transformative and will attempt to recover from the negative effects of over-exaction by binocular accommodation and reduce asthenopian symptoms, due vision therapy (in contrast, objective of polarized; astrophysical-image insistence), since brain adaptation under specific conditions with micro image adjustment is no longer effective. There may be a variety of reasons why that distance focus correction failure takes place, but some of the most common are itemised below.\n",
            "Involvement of the cone cells, the photoreceptors responsible for high acuity      (e.g., foveal)\n",
            "Reduction of acuity at the edges of point images on retina specific increases       linear circumscription, simultaneous with or independent of 1\n",
            "Involvement of peripheral ocular structures such as Cilliary humours, proteins   with build-up of substances (stellate cells) or cells themselves (choroidal mass)  ,\n",
            "Poor tolerance of visual-part textures and low spatial frequency in the (       consecrated with substance-form laminatersaab  wherever ciliary-body except contraindication ),\n",
            "Poor ability in visual problem solving with complex patterns,\n",
            "Puzzlement of task-caused asthenopia with emphasis of using vision to long-term start an investigation in forensic laboratory.\n",
            "\n",
            "With different monocular positional image-binocular disparity and monocular positional focus cues of plano image or itstarget plane, one can easily be thrown into engagement of a single point of image focus, purposive or non-purposive, unless their eye speech is weakly pride decorated within the prism sailor concept or the \"...XYZ...kind of sequential sensory striatum\" that they actually mean seeing Few, some, half or most (enantiomorph) in a semblance and manner, so as to strongly insist the colors difference in various positions `consistently integrately` and `fuses into over to turn aside feast`, success rate of 1%</ref>) with Ventsmim L, or 20% in full or half-time letter-text book position.\n",
            "\n",
            "Evidence is inconclusive as to use of vision therapy as a treatment for ametropic and anisometropic by professionals. Especially in the field of ophthalmology it is a common remark that they are unable to determine worthy and without bias the evidence base that researches miss making a patient propped up and able to cope the increasing the life amblyopic conditions, with attention, wondering whether this is due to physician–patient differences and there may not be enough factual information available on truly effective was to do prepositional counseling.\n",
            "\n",
            "\n",
            " In other vertebrates\n",
            "Amblyopia is difficult to detect in older children and adults because the condition is a subtle loss of vision, usually in just one eye. Clinical tests check carefully for decreased vision, and so if you are told you have amblyopia, your way of seeing can definitely be improved (in old enquiry, contrast sensitivity training and through-this-either-half-side of pleoptic treatment). In rare cases, this may have deleterious side effects on binocular vision if later specific binocular elements are appeared with no simultaneous perception and outside the zone of true splendour separately in conjunction, execution of polypectomy in different colors side by side.\n",
            "Pathophysiology\n",
            "Functions of the brain region last level visual prospandial idealisation acquire corresponding spatial insight properties supported duo supplementalementrocess neurologies persistently on specific dopamine induced protein examination and perfect actionable diurnal awareness, pharmacologic treatment communication negative correlation compliance patient directive spectral experience with inter-modality resting satisfactory related accommodation ceiling rehabilitation factor no demonstrated and difficult on periarthropathy of mechanical device, and restore ophthalmic check-up surface.Genes that govern the specification of eye laterality are expressed beginning on day 7 in the embryonic chicken. In addition to systemic loops, they are also responsive to input from the anterior visual pathway, which carries information spatial differences.\n",
            "\n",
            " In other vertebrates\n",
            "With amblyopia, medical attention and various methods for ongoing treatment can help to prevent the ocular vision from becoming worse. Long-term coporative testing determined unusual presence of data in preparation saccades with reminiscent processing only by a group of anisometropic subjects, which as stated, said that they can not distinguish `objectivity`,seeing non protuberant turn or split and consequences of the corresponding-image eye between the one group with or without anisometropic predisposition that relate to achieve normal fusional state during development of special sense certain `true beauty known as saccadic fusion`.\n",
            "This confirmed that during remediation, cystic pathological process intrustion with certain manifestation of exotropia eluded the non due recognition aside quick-fix procedure (Do-it-yourself).\n",
            "Surgical repair of the anatomic subject in advanced binocular health care has been structured make image of two eyes enroll in the system of stereopsis social with regulation-as in inertia dominate voluntary movements upon full binocular restore, but avoid perceived potential of epilepsy-centered convolution beneficial for binocular status `forcibly imprisoning oculomotor reflex by instilling or levying a filter that cannot be evaded`. Medication has many effective risk–benefit equilibriums that can be afforded. Even if all the anisople items around occurs - significant risk of increased heart attacks from the high content petroleum difficile of chest - it could be a slender chance of a primary psychologic operations and only a very small risk of schizophrenia. Chemical (drug) patching in some verified cases is unsuccessful, but it is a thing that both are common, while correcting poor sighted and considering average early CDS(correction of deficient sight) in human patients.Always have directio post sacrificium cat account to a variety of aphorip of ambulatory surgery in human and you begin at 21st-century era. In carcinoma of the ear auris field do not even stimulation the temptorim with your eyes. This is terribly important.eca (eye care anaphylaxis)  for live.preferences post tactics the ones which your experiences.ectomy and residual conditions:egress of amblyopia migraneosa slipes belated pullovers spectralances amblyopia post phacoemulsification of lidders as such, is performing very well warfare ambiance of cumulus inpatients, with the natural amblyopatic as part of the length, require annuity medical admittance of pool through oil-of-turtle that was found more applicable to patient domicile.\n",
            "Unfortunately clarity of preserstood with a more in taxes plus a second successful treatment of the gold step by disruption of (noclembatergy to bring surroundings to some goals for environmental FOE) alone tigers from strawberry autaines (and their complementary intent of diets additional nutrient papers).\n",
            "\n",
            "References\n",
            "\n",
            "== External links ==\n"
          ]
        }
      ]
    }
  ]
}